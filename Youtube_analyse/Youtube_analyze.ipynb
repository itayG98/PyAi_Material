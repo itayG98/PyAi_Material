{
 "cells": [
  {
   "cell_type": "markdown",
   "id": "62578663",
   "metadata": {},
   "source": [
    "## Imports"
   ]
  },
  {
   "cell_type": "code",
   "execution_count": 1,
   "id": "c6983fe9",
   "metadata": {},
   "outputs": [
    {
     "name": "stdout",
     "output_type": "stream",
     "text": [
      "Defaulting to user installation because normal site-packages is not writeable\n",
      "Requirement already satisfied: xlrd in c:\\programdata\\anaconda3\\lib\\site-packages (2.0.1)\n"
     ]
    }
   ],
   "source": [
    "import pandas as pd\n",
    "import numpy as np\n",
    "import matplotlib.pyplot as plt\n",
    "! pip install xlrd"
   ]
  },
  {
   "cell_type": "code",
   "execution_count": 2,
   "id": "96049da7",
   "metadata": {},
   "outputs": [],
   "source": [
    "get_ipython().run_line_magic('matplotlib', 'inline')"
   ]
  },
  {
   "cell_type": "markdown",
   "id": "83cc1ad0",
   "metadata": {},
   "source": [
    "# Load data"
   ]
  },
  {
   "cell_type": "code",
   "execution_count": 3,
   "id": "76af58b3",
   "metadata": {},
   "outputs": [],
   "source": [
    "youtube_data = pd.read_excel('USvideos.xlsx')"
   ]
  },
  {
   "cell_type": "code",
   "execution_count": 4,
   "id": "134817ea",
   "metadata": {},
   "outputs": [
    {
     "data": {
      "text/html": [
       "<div>\n",
       "<style scoped>\n",
       "    .dataframe tbody tr th:only-of-type {\n",
       "        vertical-align: middle;\n",
       "    }\n",
       "\n",
       "    .dataframe tbody tr th {\n",
       "        vertical-align: top;\n",
       "    }\n",
       "\n",
       "    .dataframe thead th {\n",
       "        text-align: right;\n",
       "    }\n",
       "</style>\n",
       "<table border=\"1\" class=\"dataframe\">\n",
       "  <thead>\n",
       "    <tr style=\"text-align: right;\">\n",
       "      <th></th>\n",
       "      <th>video_id</th>\n",
       "      <th>trending_date</th>\n",
       "      <th>title</th>\n",
       "      <th>channel_title</th>\n",
       "      <th>category_id</th>\n",
       "      <th>publish_time</th>\n",
       "      <th>tags</th>\n",
       "      <th>views</th>\n",
       "      <th>likes</th>\n",
       "      <th>dislikes</th>\n",
       "      <th>comment_count</th>\n",
       "      <th>thumbnail_link</th>\n",
       "      <th>comments_disabled</th>\n",
       "      <th>ratings_disabled</th>\n",
       "      <th>video_error_or_removed</th>\n",
       "      <th>description</th>\n",
       "    </tr>\n",
       "  </thead>\n",
       "  <tbody>\n",
       "    <tr>\n",
       "      <th>0</th>\n",
       "      <td>2kyS6SvSYSE</td>\n",
       "      <td>17.14.11</td>\n",
       "      <td>WE WANT TO TALK ABOUT OUR MARRIAGE</td>\n",
       "      <td>CaseyNeistat</td>\n",
       "      <td>22</td>\n",
       "      <td>2017-11-13T17:13:01.000Z</td>\n",
       "      <td>SHANtell martin</td>\n",
       "      <td>748374</td>\n",
       "      <td>57527</td>\n",
       "      <td>2966</td>\n",
       "      <td>15954</td>\n",
       "      <td>https://i.ytimg.com/vi/2kyS6SvSYSE/default.jpg</td>\n",
       "      <td>False</td>\n",
       "      <td>False</td>\n",
       "      <td>False</td>\n",
       "      <td>SHANTELL'S CHANNEL - https://www.youtube.com/s...</td>\n",
       "    </tr>\n",
       "    <tr>\n",
       "      <th>1</th>\n",
       "      <td>1ZAPwfrtAFY</td>\n",
       "      <td>17.14.11</td>\n",
       "      <td>The Trump Presidency: Last Week Tonight with J...</td>\n",
       "      <td>LastWeekTonight</td>\n",
       "      <td>24</td>\n",
       "      <td>2017-11-13T07:30:00.000Z</td>\n",
       "      <td>last week tonight trump presidency|\"last week ...</td>\n",
       "      <td>2418783</td>\n",
       "      <td>97185</td>\n",
       "      <td>6146</td>\n",
       "      <td>12703</td>\n",
       "      <td>https://i.ytimg.com/vi/1ZAPwfrtAFY/default.jpg</td>\n",
       "      <td>False</td>\n",
       "      <td>False</td>\n",
       "      <td>False</td>\n",
       "      <td>One year after the presidential election, John...</td>\n",
       "    </tr>\n",
       "    <tr>\n",
       "      <th>2</th>\n",
       "      <td>5qpjK5DgCt4</td>\n",
       "      <td>17.14.11</td>\n",
       "      <td>Racist Superman | Rudy Mancuso, King Bach &amp; Le...</td>\n",
       "      <td>Rudy Mancuso</td>\n",
       "      <td>23</td>\n",
       "      <td>2017-11-12T19:05:24.000Z</td>\n",
       "      <td>racist superman|\"rudy\"|\"mancuso\"|\"king\"|\"bach\"...</td>\n",
       "      <td>3191434</td>\n",
       "      <td>146033</td>\n",
       "      <td>5339</td>\n",
       "      <td>8181</td>\n",
       "      <td>https://i.ytimg.com/vi/5qpjK5DgCt4/default.jpg</td>\n",
       "      <td>False</td>\n",
       "      <td>False</td>\n",
       "      <td>False</td>\n",
       "      <td>WATCH MY PREVIOUS VIDEO ▶ \\n\\nSUBSCRIBE ► http...</td>\n",
       "    </tr>\n",
       "    <tr>\n",
       "      <th>3</th>\n",
       "      <td>puqaWrEC7tY</td>\n",
       "      <td>17.14.11</td>\n",
       "      <td>Nickelback Lyrics: Real or Fake?</td>\n",
       "      <td>Good Mythical Morning</td>\n",
       "      <td>24</td>\n",
       "      <td>2017-11-13T11:00:04.000Z</td>\n",
       "      <td>rhett and link|\"gmm\"|\"good mythical morning\"|\"...</td>\n",
       "      <td>343168</td>\n",
       "      <td>10172</td>\n",
       "      <td>666</td>\n",
       "      <td>2146</td>\n",
       "      <td>https://i.ytimg.com/vi/puqaWrEC7tY/default.jpg</td>\n",
       "      <td>False</td>\n",
       "      <td>False</td>\n",
       "      <td>False</td>\n",
       "      <td>Today we find out if Link is a Nickelback amat...</td>\n",
       "    </tr>\n",
       "    <tr>\n",
       "      <th>4</th>\n",
       "      <td>d380meD0W0M</td>\n",
       "      <td>17.14.11</td>\n",
       "      <td>I Dare You: GOING BALD!?</td>\n",
       "      <td>nigahiga</td>\n",
       "      <td>24</td>\n",
       "      <td>2017-11-12T18:01:41.000Z</td>\n",
       "      <td>ryan|\"higa\"|\"higatv\"|\"nigahiga\"|\"i dare you\"|\"...</td>\n",
       "      <td>2095731</td>\n",
       "      <td>132235</td>\n",
       "      <td>1989</td>\n",
       "      <td>17518</td>\n",
       "      <td>https://i.ytimg.com/vi/d380meD0W0M/default.jpg</td>\n",
       "      <td>False</td>\n",
       "      <td>False</td>\n",
       "      <td>False</td>\n",
       "      <td>I know it's been a while since we did this sho...</td>\n",
       "    </tr>\n",
       "  </tbody>\n",
       "</table>\n",
       "</div>"
      ],
      "text/plain": [
       "      video_id trending_date  \\\n",
       "0  2kyS6SvSYSE      17.14.11   \n",
       "1  1ZAPwfrtAFY      17.14.11   \n",
       "2  5qpjK5DgCt4      17.14.11   \n",
       "3  puqaWrEC7tY      17.14.11   \n",
       "4  d380meD0W0M      17.14.11   \n",
       "\n",
       "                                               title          channel_title  \\\n",
       "0                 WE WANT TO TALK ABOUT OUR MARRIAGE           CaseyNeistat   \n",
       "1  The Trump Presidency: Last Week Tonight with J...        LastWeekTonight   \n",
       "2  Racist Superman | Rudy Mancuso, King Bach & Le...           Rudy Mancuso   \n",
       "3                   Nickelback Lyrics: Real or Fake?  Good Mythical Morning   \n",
       "4                           I Dare You: GOING BALD!?               nigahiga   \n",
       "\n",
       "   category_id              publish_time  \\\n",
       "0           22  2017-11-13T17:13:01.000Z   \n",
       "1           24  2017-11-13T07:30:00.000Z   \n",
       "2           23  2017-11-12T19:05:24.000Z   \n",
       "3           24  2017-11-13T11:00:04.000Z   \n",
       "4           24  2017-11-12T18:01:41.000Z   \n",
       "\n",
       "                                                tags    views   likes  \\\n",
       "0                                    SHANtell martin   748374   57527   \n",
       "1  last week tonight trump presidency|\"last week ...  2418783   97185   \n",
       "2  racist superman|\"rudy\"|\"mancuso\"|\"king\"|\"bach\"...  3191434  146033   \n",
       "3  rhett and link|\"gmm\"|\"good mythical morning\"|\"...   343168   10172   \n",
       "4  ryan|\"higa\"|\"higatv\"|\"nigahiga\"|\"i dare you\"|\"...  2095731  132235   \n",
       "\n",
       "   dislikes  comment_count                                  thumbnail_link  \\\n",
       "0      2966          15954  https://i.ytimg.com/vi/2kyS6SvSYSE/default.jpg   \n",
       "1      6146          12703  https://i.ytimg.com/vi/1ZAPwfrtAFY/default.jpg   \n",
       "2      5339           8181  https://i.ytimg.com/vi/5qpjK5DgCt4/default.jpg   \n",
       "3       666           2146  https://i.ytimg.com/vi/puqaWrEC7tY/default.jpg   \n",
       "4      1989          17518  https://i.ytimg.com/vi/d380meD0W0M/default.jpg   \n",
       "\n",
       "   comments_disabled  ratings_disabled  video_error_or_removed  \\\n",
       "0              False             False                   False   \n",
       "1              False             False                   False   \n",
       "2              False             False                   False   \n",
       "3              False             False                   False   \n",
       "4              False             False                   False   \n",
       "\n",
       "                                         description  \n",
       "0  SHANTELL'S CHANNEL - https://www.youtube.com/s...  \n",
       "1  One year after the presidential election, John...  \n",
       "2  WATCH MY PREVIOUS VIDEO ▶ \\n\\nSUBSCRIBE ► http...  \n",
       "3  Today we find out if Link is a Nickelback amat...  \n",
       "4  I know it's been a while since we did this sho...  "
      ]
     },
     "execution_count": 4,
     "metadata": {},
     "output_type": "execute_result"
    }
   ],
   "source": [
    "youtube_data.head(5)"
   ]
  },
  {
   "cell_type": "markdown",
   "id": "e92b818b",
   "metadata": {},
   "source": [
    "# Attributes"
   ]
  },
  {
   "cell_type": "code",
   "execution_count": 5,
   "id": "c13054ec",
   "metadata": {},
   "outputs": [
    {
     "data": {
      "text/plain": [
       "(40949, 16)"
      ]
     },
     "execution_count": 5,
     "metadata": {},
     "output_type": "execute_result"
    }
   ],
   "source": [
    "youtube_data.shape"
   ]
  },
  {
   "cell_type": "code",
   "execution_count": 6,
   "id": "38efb8a2",
   "metadata": {},
   "outputs": [
    {
     "name": "stdout",
     "output_type": "stream",
     "text": [
      "<class 'pandas.core.frame.DataFrame'>\n",
      "RangeIndex: 40949 entries, 0 to 40948\n",
      "Data columns (total 16 columns):\n",
      " #   Column                  Non-Null Count  Dtype \n",
      "---  ------                  --------------  ----- \n",
      " 0   video_id                40949 non-null  object\n",
      " 1   trending_date           40949 non-null  object\n",
      " 2   title                   40949 non-null  object\n",
      " 3   channel_title           40949 non-null  object\n",
      " 4   category_id             40949 non-null  int64 \n",
      " 5   publish_time            40949 non-null  object\n",
      " 6   tags                    40949 non-null  object\n",
      " 7   views                   40949 non-null  int64 \n",
      " 8   likes                   40949 non-null  int64 \n",
      " 9   dislikes                40949 non-null  int64 \n",
      " 10  comment_count           40949 non-null  int64 \n",
      " 11  thumbnail_link          40949 non-null  object\n",
      " 12  comments_disabled       40949 non-null  bool  \n",
      " 13  ratings_disabled        40949 non-null  bool  \n",
      " 14  video_error_or_removed  40949 non-null  bool  \n",
      " 15  description             40379 non-null  object\n",
      "dtypes: bool(3), int64(5), object(8)\n",
      "memory usage: 4.2+ MB\n"
     ]
    }
   ],
   "source": [
    "youtube_data.info()"
   ]
  },
  {
   "cell_type": "code",
   "execution_count": 7,
   "id": "aeac9534",
   "metadata": {},
   "outputs": [
    {
     "data": {
      "text/plain": [
       "Index(['video_id', 'trending_date', 'title', 'channel_title', 'category_id',\n",
       "       'publish_time', 'tags', 'views', 'likes', 'dislikes', 'comment_count',\n",
       "       'thumbnail_link', 'comments_disabled', 'ratings_disabled',\n",
       "       'video_error_or_removed', 'description'],\n",
       "      dtype='object')"
      ]
     },
     "execution_count": 7,
     "metadata": {},
     "output_type": "execute_result"
    }
   ],
   "source": [
    "youtube_data.columns"
   ]
  },
  {
   "cell_type": "code",
   "execution_count": 8,
   "id": "d0870fb1",
   "metadata": {},
   "outputs": [
    {
     "data": {
      "text/plain": [
       "video_id                   6351\n",
       "trending_date               205\n",
       "title                      6455\n",
       "channel_title              2207\n",
       "category_id                  16\n",
       "publish_time               6269\n",
       "tags                       6055\n",
       "views                     40478\n",
       "likes                     29850\n",
       "dislikes                   8516\n",
       "comment_count             13773\n",
       "thumbnail_link             6352\n",
       "comments_disabled             2\n",
       "ratings_disabled              2\n",
       "video_error_or_removed        2\n",
       "description                6901\n",
       "dtype: int64"
      ]
     },
     "execution_count": 8,
     "metadata": {},
     "output_type": "execute_result"
    }
   ],
   "source": [
    "youtube_data.nunique()"
   ]
  },
  {
   "cell_type": "code",
   "execution_count": 9,
   "id": "45fa3f12",
   "metadata": {},
   "outputs": [
    {
     "data": {
      "text/plain": [
       "16"
      ]
     },
     "execution_count": 9,
     "metadata": {},
     "output_type": "execute_result"
    }
   ],
   "source": [
    "youtube_data[\"category_id\"].nunique()"
   ]
  },
  {
   "cell_type": "markdown",
   "id": "dee5ea66",
   "metadata": {},
   "source": [
    "## Multiple videos with the same ID?"
   ]
  },
  {
   "cell_type": "code",
   "execution_count": 10,
   "id": "daffbf43",
   "metadata": {},
   "outputs": [
    {
     "data": {
      "text/plain": [
       "6351"
      ]
     },
     "execution_count": 10,
     "metadata": {},
     "output_type": "execute_result"
    }
   ],
   "source": [
    "youtube_data['video_id'].nunique() "
   ]
  },
  {
   "cell_type": "code",
   "execution_count": 11,
   "id": "56ee9ec3",
   "metadata": {},
   "outputs": [
    {
     "data": {
      "text/plain": [
       "j4KvrAUjn6c    30\n",
       "8h--kFui1JA    29\n",
       "QBL8IRJ5yHU    29\n",
       "t4pRQ0jn23Q    29\n",
       "MAjY8mCTXWk    29\n",
       "               ..\n",
       "QDHcA33yT0I     1\n",
       "6XxA-4Jp7AU     1\n",
       "GIRJck1pVRA     1\n",
       "Wpr2WvQn-kg     1\n",
       "yz7Xq3T0YPs     1\n",
       "Name: video_id, Length: 6351, dtype: int64"
      ]
     },
     "execution_count": 11,
     "metadata": {},
     "output_type": "execute_result"
    }
   ],
   "source": [
    "youtube_data['video_id'].value_counts()"
   ]
  },
  {
   "cell_type": "code",
   "execution_count": 12,
   "id": "92604ebd",
   "metadata": {},
   "outputs": [
    {
     "data": {
      "text/plain": [
       "array([22, 24, 23, 28,  1, 25, 17, 10, 15, 27, 26,  2, 19, 20, 29, 43],\n",
       "      dtype=int64)"
      ]
     },
     "execution_count": 12,
     "metadata": {},
     "output_type": "execute_result"
    }
   ],
   "source": [
    "youtube_data[\"category_id\"].unique()"
   ]
  },
  {
   "cell_type": "code",
   "execution_count": 13,
   "id": "28d18c41",
   "metadata": {},
   "outputs": [
    {
     "data": {
      "text/plain": [
       "24    9964\n",
       "10    6472\n",
       "26    4146\n",
       "23    3457\n",
       "22    3210\n",
       "25    2487\n",
       "28    2401\n",
       "1     2345\n",
       "17    2174\n",
       "27    1656\n",
       "15     920\n",
       "20     817\n",
       "19     402\n",
       "2      384\n",
       "29      57\n",
       "43      57\n",
       "Name: category_id, dtype: int64"
      ]
     },
     "execution_count": 13,
     "metadata": {},
     "output_type": "execute_result"
    }
   ],
   "source": [
    "youtube_data[\"category_id\"].value_counts()"
   ]
  },
  {
   "cell_type": "code",
   "execution_count": 14,
   "id": "123da5ee",
   "metadata": {},
   "outputs": [
    {
     "data": {
      "text/plain": [
       "0        False\n",
       "1        False\n",
       "2        False\n",
       "3        False\n",
       "4        False\n",
       "         ...  \n",
       "40944    False\n",
       "40945    False\n",
       "40946    False\n",
       "40947     True\n",
       "40948    False\n",
       "Name: category_id, Length: 40949, dtype: bool"
      ]
     },
     "execution_count": 14,
     "metadata": {},
     "output_type": "execute_result"
    }
   ],
   "source": [
    "youtube_data[\"category_id\"] == 1"
   ]
  },
  {
   "cell_type": "code",
   "execution_count": 15,
   "id": "67ba69ec",
   "metadata": {},
   "outputs": [],
   "source": [
    "# youtube_data.loc[(youtube_data[\"category_id\"] == 1)] = 'Film and Animation'"
   ]
  },
  {
   "cell_type": "markdown",
   "id": "e1a0c1fe",
   "metadata": {},
   "source": [
    "## Boolean mask"
   ]
  },
  {
   "cell_type": "code",
   "execution_count": 16,
   "id": "2143b365",
   "metadata": {},
   "outputs": [
    {
     "data": {
      "text/plain": [
       "0        False\n",
       "1        False\n",
       "2        False\n",
       "3        False\n",
       "4        False\n",
       "         ...  \n",
       "40944    False\n",
       "40945    False\n",
       "40946    False\n",
       "40947    False\n",
       "40948    False\n",
       "Name: category_id, Length: 40949, dtype: bool"
      ]
     },
     "execution_count": 16,
     "metadata": {},
     "output_type": "execute_result"
    }
   ],
   "source": [
    "youtube_data[\"category_id\"] =='Film and Animation'"
   ]
  },
  {
   "cell_type": "code",
   "execution_count": 17,
   "id": "f43145c2",
   "metadata": {},
   "outputs": [],
   "source": [
    "youtube_data[\"category_name\"] = np.nan"
   ]
  },
  {
   "cell_type": "code",
   "execution_count": 18,
   "id": "35f532fd",
   "metadata": {},
   "outputs": [],
   "source": [
    "youtube_data.loc[(youtube_data[\"category_id\"] == 1), \"category_name\"] = 'Film and Animation'\n",
    "youtube_data.loc[(youtube_data[\"category_id\"] == 2), \"category_name\"] = 'Cars and Vehicles'\n",
    "youtube_data.loc[(youtube_data[\"category_id\"] == 10), \"category_name\"] = 'Music'"
   ]
  },
  {
   "cell_type": "code",
   "execution_count": 19,
   "id": "d7307cc1",
   "metadata": {},
   "outputs": [
    {
     "data": {
      "text/html": [
       "<div>\n",
       "<style scoped>\n",
       "    .dataframe tbody tr th:only-of-type {\n",
       "        vertical-align: middle;\n",
       "    }\n",
       "\n",
       "    .dataframe tbody tr th {\n",
       "        vertical-align: top;\n",
       "    }\n",
       "\n",
       "    .dataframe thead th {\n",
       "        text-align: right;\n",
       "    }\n",
       "</style>\n",
       "<table border=\"1\" class=\"dataframe\">\n",
       "  <thead>\n",
       "    <tr style=\"text-align: right;\">\n",
       "      <th></th>\n",
       "      <th>video_id</th>\n",
       "      <th>trending_date</th>\n",
       "      <th>title</th>\n",
       "      <th>channel_title</th>\n",
       "      <th>category_id</th>\n",
       "      <th>publish_time</th>\n",
       "      <th>tags</th>\n",
       "      <th>views</th>\n",
       "      <th>likes</th>\n",
       "      <th>dislikes</th>\n",
       "      <th>comment_count</th>\n",
       "      <th>thumbnail_link</th>\n",
       "      <th>comments_disabled</th>\n",
       "      <th>ratings_disabled</th>\n",
       "      <th>video_error_or_removed</th>\n",
       "      <th>description</th>\n",
       "      <th>category_name</th>\n",
       "    </tr>\n",
       "  </thead>\n",
       "  <tbody>\n",
       "    <tr>\n",
       "      <th>0</th>\n",
       "      <td>2kyS6SvSYSE</td>\n",
       "      <td>17.14.11</td>\n",
       "      <td>WE WANT TO TALK ABOUT OUR MARRIAGE</td>\n",
       "      <td>CaseyNeistat</td>\n",
       "      <td>22</td>\n",
       "      <td>2017-11-13T17:13:01.000Z</td>\n",
       "      <td>SHANtell martin</td>\n",
       "      <td>748374</td>\n",
       "      <td>57527</td>\n",
       "      <td>2966</td>\n",
       "      <td>15954</td>\n",
       "      <td>https://i.ytimg.com/vi/2kyS6SvSYSE/default.jpg</td>\n",
       "      <td>False</td>\n",
       "      <td>False</td>\n",
       "      <td>False</td>\n",
       "      <td>SHANTELL'S CHANNEL - https://www.youtube.com/s...</td>\n",
       "      <td>NaN</td>\n",
       "    </tr>\n",
       "    <tr>\n",
       "      <th>1</th>\n",
       "      <td>1ZAPwfrtAFY</td>\n",
       "      <td>17.14.11</td>\n",
       "      <td>The Trump Presidency: Last Week Tonight with J...</td>\n",
       "      <td>LastWeekTonight</td>\n",
       "      <td>24</td>\n",
       "      <td>2017-11-13T07:30:00.000Z</td>\n",
       "      <td>last week tonight trump presidency|\"last week ...</td>\n",
       "      <td>2418783</td>\n",
       "      <td>97185</td>\n",
       "      <td>6146</td>\n",
       "      <td>12703</td>\n",
       "      <td>https://i.ytimg.com/vi/1ZAPwfrtAFY/default.jpg</td>\n",
       "      <td>False</td>\n",
       "      <td>False</td>\n",
       "      <td>False</td>\n",
       "      <td>One year after the presidential election, John...</td>\n",
       "      <td>NaN</td>\n",
       "    </tr>\n",
       "    <tr>\n",
       "      <th>2</th>\n",
       "      <td>5qpjK5DgCt4</td>\n",
       "      <td>17.14.11</td>\n",
       "      <td>Racist Superman | Rudy Mancuso, King Bach &amp; Le...</td>\n",
       "      <td>Rudy Mancuso</td>\n",
       "      <td>23</td>\n",
       "      <td>2017-11-12T19:05:24.000Z</td>\n",
       "      <td>racist superman|\"rudy\"|\"mancuso\"|\"king\"|\"bach\"...</td>\n",
       "      <td>3191434</td>\n",
       "      <td>146033</td>\n",
       "      <td>5339</td>\n",
       "      <td>8181</td>\n",
       "      <td>https://i.ytimg.com/vi/5qpjK5DgCt4/default.jpg</td>\n",
       "      <td>False</td>\n",
       "      <td>False</td>\n",
       "      <td>False</td>\n",
       "      <td>WATCH MY PREVIOUS VIDEO ▶ \\n\\nSUBSCRIBE ► http...</td>\n",
       "      <td>NaN</td>\n",
       "    </tr>\n",
       "    <tr>\n",
       "      <th>3</th>\n",
       "      <td>puqaWrEC7tY</td>\n",
       "      <td>17.14.11</td>\n",
       "      <td>Nickelback Lyrics: Real or Fake?</td>\n",
       "      <td>Good Mythical Morning</td>\n",
       "      <td>24</td>\n",
       "      <td>2017-11-13T11:00:04.000Z</td>\n",
       "      <td>rhett and link|\"gmm\"|\"good mythical morning\"|\"...</td>\n",
       "      <td>343168</td>\n",
       "      <td>10172</td>\n",
       "      <td>666</td>\n",
       "      <td>2146</td>\n",
       "      <td>https://i.ytimg.com/vi/puqaWrEC7tY/default.jpg</td>\n",
       "      <td>False</td>\n",
       "      <td>False</td>\n",
       "      <td>False</td>\n",
       "      <td>Today we find out if Link is a Nickelback amat...</td>\n",
       "      <td>NaN</td>\n",
       "    </tr>\n",
       "    <tr>\n",
       "      <th>4</th>\n",
       "      <td>d380meD0W0M</td>\n",
       "      <td>17.14.11</td>\n",
       "      <td>I Dare You: GOING BALD!?</td>\n",
       "      <td>nigahiga</td>\n",
       "      <td>24</td>\n",
       "      <td>2017-11-12T18:01:41.000Z</td>\n",
       "      <td>ryan|\"higa\"|\"higatv\"|\"nigahiga\"|\"i dare you\"|\"...</td>\n",
       "      <td>2095731</td>\n",
       "      <td>132235</td>\n",
       "      <td>1989</td>\n",
       "      <td>17518</td>\n",
       "      <td>https://i.ytimg.com/vi/d380meD0W0M/default.jpg</td>\n",
       "      <td>False</td>\n",
       "      <td>False</td>\n",
       "      <td>False</td>\n",
       "      <td>I know it's been a while since we did this sho...</td>\n",
       "      <td>NaN</td>\n",
       "    </tr>\n",
       "  </tbody>\n",
       "</table>\n",
       "</div>"
      ],
      "text/plain": [
       "      video_id trending_date  \\\n",
       "0  2kyS6SvSYSE      17.14.11   \n",
       "1  1ZAPwfrtAFY      17.14.11   \n",
       "2  5qpjK5DgCt4      17.14.11   \n",
       "3  puqaWrEC7tY      17.14.11   \n",
       "4  d380meD0W0M      17.14.11   \n",
       "\n",
       "                                               title          channel_title  \\\n",
       "0                 WE WANT TO TALK ABOUT OUR MARRIAGE           CaseyNeistat   \n",
       "1  The Trump Presidency: Last Week Tonight with J...        LastWeekTonight   \n",
       "2  Racist Superman | Rudy Mancuso, King Bach & Le...           Rudy Mancuso   \n",
       "3                   Nickelback Lyrics: Real or Fake?  Good Mythical Morning   \n",
       "4                           I Dare You: GOING BALD!?               nigahiga   \n",
       "\n",
       "   category_id              publish_time  \\\n",
       "0           22  2017-11-13T17:13:01.000Z   \n",
       "1           24  2017-11-13T07:30:00.000Z   \n",
       "2           23  2017-11-12T19:05:24.000Z   \n",
       "3           24  2017-11-13T11:00:04.000Z   \n",
       "4           24  2017-11-12T18:01:41.000Z   \n",
       "\n",
       "                                                tags    views   likes  \\\n",
       "0                                    SHANtell martin   748374   57527   \n",
       "1  last week tonight trump presidency|\"last week ...  2418783   97185   \n",
       "2  racist superman|\"rudy\"|\"mancuso\"|\"king\"|\"bach\"...  3191434  146033   \n",
       "3  rhett and link|\"gmm\"|\"good mythical morning\"|\"...   343168   10172   \n",
       "4  ryan|\"higa\"|\"higatv\"|\"nigahiga\"|\"i dare you\"|\"...  2095731  132235   \n",
       "\n",
       "   dislikes  comment_count                                  thumbnail_link  \\\n",
       "0      2966          15954  https://i.ytimg.com/vi/2kyS6SvSYSE/default.jpg   \n",
       "1      6146          12703  https://i.ytimg.com/vi/1ZAPwfrtAFY/default.jpg   \n",
       "2      5339           8181  https://i.ytimg.com/vi/5qpjK5DgCt4/default.jpg   \n",
       "3       666           2146  https://i.ytimg.com/vi/puqaWrEC7tY/default.jpg   \n",
       "4      1989          17518  https://i.ytimg.com/vi/d380meD0W0M/default.jpg   \n",
       "\n",
       "   comments_disabled  ratings_disabled  video_error_or_removed  \\\n",
       "0              False             False                   False   \n",
       "1              False             False                   False   \n",
       "2              False             False                   False   \n",
       "3              False             False                   False   \n",
       "4              False             False                   False   \n",
       "\n",
       "                                         description category_name  \n",
       "0  SHANTELL'S CHANNEL - https://www.youtube.com/s...           NaN  \n",
       "1  One year after the presidential election, John...           NaN  \n",
       "2  WATCH MY PREVIOUS VIDEO ▶ \\n\\nSUBSCRIBE ► http...           NaN  \n",
       "3  Today we find out if Link is a Nickelback amat...           NaN  \n",
       "4  I know it's been a while since we did this sho...           NaN  "
      ]
     },
     "execution_count": 19,
     "metadata": {},
     "output_type": "execute_result"
    }
   ],
   "source": [
    "youtube_data.head(5)"
   ]
  },
  {
   "cell_type": "code",
   "execution_count": 20,
   "id": "054666da",
   "metadata": {},
   "outputs": [
    {
     "data": {
      "text/html": [
       "<div>\n",
       "<style scoped>\n",
       "    .dataframe tbody tr th:only-of-type {\n",
       "        vertical-align: middle;\n",
       "    }\n",
       "\n",
       "    .dataframe tbody tr th {\n",
       "        vertical-align: top;\n",
       "    }\n",
       "\n",
       "    .dataframe thead th {\n",
       "        text-align: right;\n",
       "    }\n",
       "</style>\n",
       "<table border=\"1\" class=\"dataframe\">\n",
       "  <thead>\n",
       "    <tr style=\"text-align: right;\">\n",
       "      <th></th>\n",
       "      <th>video_id</th>\n",
       "      <th>trending_date</th>\n",
       "      <th>title</th>\n",
       "      <th>channel_title</th>\n",
       "      <th>category_id</th>\n",
       "      <th>publish_time</th>\n",
       "      <th>tags</th>\n",
       "      <th>views</th>\n",
       "      <th>likes</th>\n",
       "      <th>dislikes</th>\n",
       "      <th>comment_count</th>\n",
       "      <th>thumbnail_link</th>\n",
       "      <th>comments_disabled</th>\n",
       "      <th>ratings_disabled</th>\n",
       "      <th>video_error_or_removed</th>\n",
       "      <th>description</th>\n",
       "      <th>category_name</th>\n",
       "    </tr>\n",
       "  </thead>\n",
       "  <tbody>\n",
       "    <tr>\n",
       "      <th>30</th>\n",
       "      <td>U0hAC8O7RoI</td>\n",
       "      <td>17.14.11</td>\n",
       "      <td>I TOOK THE $3,000,000 LAMBO TO CARMAX! They of...</td>\n",
       "      <td>hp_overload</td>\n",
       "      <td>2</td>\n",
       "      <td>2017-11-13T01:43:12.000Z</td>\n",
       "      <td>carmax|\"lamborghini miura\"|\"miura carmax\"|\"lam...</td>\n",
       "      <td>98378</td>\n",
       "      <td>4035</td>\n",
       "      <td>495</td>\n",
       "      <td>486</td>\n",
       "      <td>https://i.ytimg.com/vi/U0hAC8O7RoI/default.jpg</td>\n",
       "      <td>False</td>\n",
       "      <td>False</td>\n",
       "      <td>False</td>\n",
       "      <td>Finally took the Miura to Carmax! Hope you enj...</td>\n",
       "      <td>Cars and Vehicles</td>\n",
       "    </tr>\n",
       "    <tr>\n",
       "      <th>58</th>\n",
       "      <td>pjuPpVLXDQg</td>\n",
       "      <td>17.14.11</td>\n",
       "      <td>Train Swipes Parked Vehicle</td>\n",
       "      <td>ViralHog</td>\n",
       "      <td>2</td>\n",
       "      <td>2017-11-13T00:46:11.000Z</td>\n",
       "      <td>2017|\"viralhog\"|\"Crash\"|\"Fail\"|\"Featured\"|\"tra...</td>\n",
       "      <td>7265</td>\n",
       "      <td>89</td>\n",
       "      <td>8</td>\n",
       "      <td>22</td>\n",
       "      <td>https://i.ytimg.com/vi/pjuPpVLXDQg/default.jpg</td>\n",
       "      <td>False</td>\n",
       "      <td>False</td>\n",
       "      <td>False</td>\n",
       "      <td>Occurred on November 10, 2017 / Ha Noi, Vietna...</td>\n",
       "      <td>Cars and Vehicles</td>\n",
       "    </tr>\n",
       "    <tr>\n",
       "      <th>163</th>\n",
       "      <td>oB3SAI2oCqk</td>\n",
       "      <td>17.14.11</td>\n",
       "      <td>Caterham Chris Hoy 60 Second Donut Challenge</td>\n",
       "      <td>Caterham Cars</td>\n",
       "      <td>2</td>\n",
       "      <td>2017-11-09T09:59:31.000Z</td>\n",
       "      <td>Caterham|\"Chris Hoy\"|\"Caterham Seven\"|\"Avon Ty...</td>\n",
       "      <td>4850</td>\n",
       "      <td>22</td>\n",
       "      <td>1</td>\n",
       "      <td>1</td>\n",
       "      <td>https://i.ytimg.com/vi/oB3SAI2oCqk/default.jpg</td>\n",
       "      <td>False</td>\n",
       "      <td>False</td>\n",
       "      <td>False</td>\n",
       "      <td>Olympic legend Sir Chris Hoy is no stranger wh...</td>\n",
       "      <td>Cars and Vehicles</td>\n",
       "    </tr>\n",
       "    <tr>\n",
       "      <th>197</th>\n",
       "      <td>PoNWU2cox9w</td>\n",
       "      <td>17.14.11</td>\n",
       "      <td>Inside Keanu Reeves' Custom Motorcycle Shop | ...</td>\n",
       "      <td>WIRED</td>\n",
       "      <td>2</td>\n",
       "      <td>2017-11-08T15:00:27.000Z</td>\n",
       "      <td>keanu reeves|\"keanu\"|\"the matrix\"|\"john wick\"|...</td>\n",
       "      <td>704363</td>\n",
       "      <td>16352</td>\n",
       "      <td>224</td>\n",
       "      <td>841</td>\n",
       "      <td>https://i.ytimg.com/vi/PoNWU2cox9w/default.jpg</td>\n",
       "      <td>False</td>\n",
       "      <td>False</td>\n",
       "      <td>False</td>\n",
       "      <td>Keanu Reeves gives Wired a tour of Arch Motorc...</td>\n",
       "      <td>Cars and Vehicles</td>\n",
       "    </tr>\n",
       "    <tr>\n",
       "      <th>265</th>\n",
       "      <td>U0hAC8O7RoI</td>\n",
       "      <td>17.15.11</td>\n",
       "      <td>I TOOK THE $3,000,000 LAMBO TO CARMAX! They of...</td>\n",
       "      <td>hp_overload</td>\n",
       "      <td>2</td>\n",
       "      <td>2017-11-13T01:43:12.000Z</td>\n",
       "      <td>carmax|\"lamborghini miura\"|\"miura carmax\"|\"lam...</td>\n",
       "      <td>341074</td>\n",
       "      <td>10915</td>\n",
       "      <td>1915</td>\n",
       "      <td>1313</td>\n",
       "      <td>https://i.ytimg.com/vi/U0hAC8O7RoI/default.jpg</td>\n",
       "      <td>False</td>\n",
       "      <td>False</td>\n",
       "      <td>False</td>\n",
       "      <td>Finally took the Miura to Carmax! Hope you enj...</td>\n",
       "      <td>Cars and Vehicles</td>\n",
       "    </tr>\n",
       "    <tr>\n",
       "      <th>...</th>\n",
       "      <td>...</td>\n",
       "      <td>...</td>\n",
       "      <td>...</td>\n",
       "      <td>...</td>\n",
       "      <td>...</td>\n",
       "      <td>...</td>\n",
       "      <td>...</td>\n",
       "      <td>...</td>\n",
       "      <td>...</td>\n",
       "      <td>...</td>\n",
       "      <td>...</td>\n",
       "      <td>...</td>\n",
       "      <td>...</td>\n",
       "      <td>...</td>\n",
       "      <td>...</td>\n",
       "      <td>...</td>\n",
       "      <td>...</td>\n",
       "    </tr>\n",
       "    <tr>\n",
       "      <th>35240</th>\n",
       "      <td>azUbCdcAeFM</td>\n",
       "      <td>18.17.05</td>\n",
       "      <td>Tesla 2018</td>\n",
       "      <td>Tesla</td>\n",
       "      <td>2</td>\n",
       "      <td>2018-05-10T01:03:00.000Z</td>\n",
       "      <td>tesla|\"model s\"|\"model x\"|\"model 3\"|\"powerwall...</td>\n",
       "      <td>1019311</td>\n",
       "      <td>40082</td>\n",
       "      <td>622</td>\n",
       "      <td>2675</td>\n",
       "      <td>https://i.ytimg.com/vi/azUbCdcAeFM/default.jpg</td>\n",
       "      <td>False</td>\n",
       "      <td>False</td>\n",
       "      <td>False</td>\n",
       "      <td>https://www.tesla.com/</td>\n",
       "      <td>Cars and Vehicles</td>\n",
       "    </tr>\n",
       "    <tr>\n",
       "      <th>35450</th>\n",
       "      <td>azUbCdcAeFM</td>\n",
       "      <td>18.18.05</td>\n",
       "      <td>Tesla 2018</td>\n",
       "      <td>Tesla</td>\n",
       "      <td>2</td>\n",
       "      <td>2018-05-10T01:03:00.000Z</td>\n",
       "      <td>tesla|\"model s\"|\"model x\"|\"model 3\"|\"powerwall...</td>\n",
       "      <td>1028961</td>\n",
       "      <td>40256</td>\n",
       "      <td>625</td>\n",
       "      <td>2685</td>\n",
       "      <td>https://i.ytimg.com/vi/azUbCdcAeFM/default.jpg</td>\n",
       "      <td>False</td>\n",
       "      <td>False</td>\n",
       "      <td>False</td>\n",
       "      <td>https://www.tesla.com/</td>\n",
       "      <td>Cars and Vehicles</td>\n",
       "    </tr>\n",
       "    <tr>\n",
       "      <th>35654</th>\n",
       "      <td>azUbCdcAeFM</td>\n",
       "      <td>18.19.05</td>\n",
       "      <td>Tesla 2018</td>\n",
       "      <td>Tesla</td>\n",
       "      <td>2</td>\n",
       "      <td>2018-05-10T01:03:00.000Z</td>\n",
       "      <td>tesla|\"model s\"|\"model x\"|\"model 3\"|\"powerwall...</td>\n",
       "      <td>1037738</td>\n",
       "      <td>40402</td>\n",
       "      <td>625</td>\n",
       "      <td>2701</td>\n",
       "      <td>https://i.ytimg.com/vi/azUbCdcAeFM/default.jpg</td>\n",
       "      <td>False</td>\n",
       "      <td>False</td>\n",
       "      <td>False</td>\n",
       "      <td>https://www.tesla.com/</td>\n",
       "      <td>Cars and Vehicles</td>\n",
       "    </tr>\n",
       "    <tr>\n",
       "      <th>35857</th>\n",
       "      <td>azUbCdcAeFM</td>\n",
       "      <td>18.20.05</td>\n",
       "      <td>Tesla 2018</td>\n",
       "      <td>Tesla</td>\n",
       "      <td>2</td>\n",
       "      <td>2018-05-10T01:03:00.000Z</td>\n",
       "      <td>tesla|\"model s\"|\"model x\"|\"model 3\"|\"powerwall...</td>\n",
       "      <td>1045304</td>\n",
       "      <td>40523</td>\n",
       "      <td>624</td>\n",
       "      <td>2715</td>\n",
       "      <td>https://i.ytimg.com/vi/azUbCdcAeFM/default.jpg</td>\n",
       "      <td>False</td>\n",
       "      <td>False</td>\n",
       "      <td>False</td>\n",
       "      <td>https://www.tesla.com/</td>\n",
       "      <td>Cars and Vehicles</td>\n",
       "    </tr>\n",
       "    <tr>\n",
       "      <th>36081</th>\n",
       "      <td>azUbCdcAeFM</td>\n",
       "      <td>18.21.05</td>\n",
       "      <td>Tesla 2018</td>\n",
       "      <td>Tesla</td>\n",
       "      <td>2</td>\n",
       "      <td>2018-05-10T01:03:00.000Z</td>\n",
       "      <td>tesla|\"model s\"|\"model x\"|\"model 3\"|\"powerwall...</td>\n",
       "      <td>1052662</td>\n",
       "      <td>40690</td>\n",
       "      <td>627</td>\n",
       "      <td>2739</td>\n",
       "      <td>https://i.ytimg.com/vi/azUbCdcAeFM/default.jpg</td>\n",
       "      <td>False</td>\n",
       "      <td>False</td>\n",
       "      <td>False</td>\n",
       "      <td>https://www.tesla.com/</td>\n",
       "      <td>Cars and Vehicles</td>\n",
       "    </tr>\n",
       "  </tbody>\n",
       "</table>\n",
       "<p>384 rows × 17 columns</p>\n",
       "</div>"
      ],
      "text/plain": [
       "          video_id trending_date  \\\n",
       "30     U0hAC8O7RoI      17.14.11   \n",
       "58     pjuPpVLXDQg      17.14.11   \n",
       "163    oB3SAI2oCqk      17.14.11   \n",
       "197    PoNWU2cox9w      17.14.11   \n",
       "265    U0hAC8O7RoI      17.15.11   \n",
       "...            ...           ...   \n",
       "35240  azUbCdcAeFM      18.17.05   \n",
       "35450  azUbCdcAeFM      18.18.05   \n",
       "35654  azUbCdcAeFM      18.19.05   \n",
       "35857  azUbCdcAeFM      18.20.05   \n",
       "36081  azUbCdcAeFM      18.21.05   \n",
       "\n",
       "                                                   title  channel_title  \\\n",
       "30     I TOOK THE $3,000,000 LAMBO TO CARMAX! They of...    hp_overload   \n",
       "58                           Train Swipes Parked Vehicle       ViralHog   \n",
       "163         Caterham Chris Hoy 60 Second Donut Challenge  Caterham Cars   \n",
       "197    Inside Keanu Reeves' Custom Motorcycle Shop | ...          WIRED   \n",
       "265    I TOOK THE $3,000,000 LAMBO TO CARMAX! They of...    hp_overload   \n",
       "...                                                  ...            ...   \n",
       "35240                                         Tesla 2018          Tesla   \n",
       "35450                                         Tesla 2018          Tesla   \n",
       "35654                                         Tesla 2018          Tesla   \n",
       "35857                                         Tesla 2018          Tesla   \n",
       "36081                                         Tesla 2018          Tesla   \n",
       "\n",
       "       category_id              publish_time  \\\n",
       "30               2  2017-11-13T01:43:12.000Z   \n",
       "58               2  2017-11-13T00:46:11.000Z   \n",
       "163              2  2017-11-09T09:59:31.000Z   \n",
       "197              2  2017-11-08T15:00:27.000Z   \n",
       "265              2  2017-11-13T01:43:12.000Z   \n",
       "...            ...                       ...   \n",
       "35240            2  2018-05-10T01:03:00.000Z   \n",
       "35450            2  2018-05-10T01:03:00.000Z   \n",
       "35654            2  2018-05-10T01:03:00.000Z   \n",
       "35857            2  2018-05-10T01:03:00.000Z   \n",
       "36081            2  2018-05-10T01:03:00.000Z   \n",
       "\n",
       "                                                    tags    views  likes  \\\n",
       "30     carmax|\"lamborghini miura\"|\"miura carmax\"|\"lam...    98378   4035   \n",
       "58     2017|\"viralhog\"|\"Crash\"|\"Fail\"|\"Featured\"|\"tra...     7265     89   \n",
       "163    Caterham|\"Chris Hoy\"|\"Caterham Seven\"|\"Avon Ty...     4850     22   \n",
       "197    keanu reeves|\"keanu\"|\"the matrix\"|\"john wick\"|...   704363  16352   \n",
       "265    carmax|\"lamborghini miura\"|\"miura carmax\"|\"lam...   341074  10915   \n",
       "...                                                  ...      ...    ...   \n",
       "35240  tesla|\"model s\"|\"model x\"|\"model 3\"|\"powerwall...  1019311  40082   \n",
       "35450  tesla|\"model s\"|\"model x\"|\"model 3\"|\"powerwall...  1028961  40256   \n",
       "35654  tesla|\"model s\"|\"model x\"|\"model 3\"|\"powerwall...  1037738  40402   \n",
       "35857  tesla|\"model s\"|\"model x\"|\"model 3\"|\"powerwall...  1045304  40523   \n",
       "36081  tesla|\"model s\"|\"model x\"|\"model 3\"|\"powerwall...  1052662  40690   \n",
       "\n",
       "       dislikes  comment_count  \\\n",
       "30          495            486   \n",
       "58            8             22   \n",
       "163           1              1   \n",
       "197         224            841   \n",
       "265        1915           1313   \n",
       "...         ...            ...   \n",
       "35240       622           2675   \n",
       "35450       625           2685   \n",
       "35654       625           2701   \n",
       "35857       624           2715   \n",
       "36081       627           2739   \n",
       "\n",
       "                                       thumbnail_link  comments_disabled  \\\n",
       "30     https://i.ytimg.com/vi/U0hAC8O7RoI/default.jpg              False   \n",
       "58     https://i.ytimg.com/vi/pjuPpVLXDQg/default.jpg              False   \n",
       "163    https://i.ytimg.com/vi/oB3SAI2oCqk/default.jpg              False   \n",
       "197    https://i.ytimg.com/vi/PoNWU2cox9w/default.jpg              False   \n",
       "265    https://i.ytimg.com/vi/U0hAC8O7RoI/default.jpg              False   \n",
       "...                                               ...                ...   \n",
       "35240  https://i.ytimg.com/vi/azUbCdcAeFM/default.jpg              False   \n",
       "35450  https://i.ytimg.com/vi/azUbCdcAeFM/default.jpg              False   \n",
       "35654  https://i.ytimg.com/vi/azUbCdcAeFM/default.jpg              False   \n",
       "35857  https://i.ytimg.com/vi/azUbCdcAeFM/default.jpg              False   \n",
       "36081  https://i.ytimg.com/vi/azUbCdcAeFM/default.jpg              False   \n",
       "\n",
       "       ratings_disabled  video_error_or_removed  \\\n",
       "30                False                   False   \n",
       "58                False                   False   \n",
       "163               False                   False   \n",
       "197               False                   False   \n",
       "265               False                   False   \n",
       "...                 ...                     ...   \n",
       "35240             False                   False   \n",
       "35450             False                   False   \n",
       "35654             False                   False   \n",
       "35857             False                   False   \n",
       "36081             False                   False   \n",
       "\n",
       "                                             description      category_name  \n",
       "30     Finally took the Miura to Carmax! Hope you enj...  Cars and Vehicles  \n",
       "58     Occurred on November 10, 2017 / Ha Noi, Vietna...  Cars and Vehicles  \n",
       "163    Olympic legend Sir Chris Hoy is no stranger wh...  Cars and Vehicles  \n",
       "197    Keanu Reeves gives Wired a tour of Arch Motorc...  Cars and Vehicles  \n",
       "265    Finally took the Miura to Carmax! Hope you enj...  Cars and Vehicles  \n",
       "...                                                  ...                ...  \n",
       "35240                             https://www.tesla.com/  Cars and Vehicles  \n",
       "35450                             https://www.tesla.com/  Cars and Vehicles  \n",
       "35654                             https://www.tesla.com/  Cars and Vehicles  \n",
       "35857                             https://www.tesla.com/  Cars and Vehicles  \n",
       "36081                             https://www.tesla.com/  Cars and Vehicles  \n",
       "\n",
       "[384 rows x 17 columns]"
      ]
     },
     "execution_count": 20,
     "metadata": {},
     "output_type": "execute_result"
    }
   ],
   "source": [
    "youtube_data.loc[(youtube_data[\"category_id\"] == 2)]"
   ]
  },
  {
   "cell_type": "code",
   "execution_count": 27,
   "id": "c74f34b9",
   "metadata": {},
   "outputs": [],
   "source": [
    "comments_by_cat = youtube_data.groupby(['category_id'])['comment_count'].mean().astype('int32')"
   ]
  },
  {
   "cell_type": "code",
   "execution_count": 28,
   "id": "9c9a3950",
   "metadata": {},
   "outputs": [],
   "source": [
    "comments_by_cat.index = comments_by_cat.index.astype('str')"
   ]
  },
  {
   "cell_type": "code",
   "execution_count": 29,
   "id": "af7e79e3",
   "metadata": {},
   "outputs": [],
   "source": [
    "views_by_cat = youtube_data.groupby(['category_id'])['views'].mean().astype('int32')"
   ]
  },
  {
   "cell_type": "code",
   "execution_count": 30,
   "id": "39297285",
   "metadata": {},
   "outputs": [],
   "source": [
    "views_by_cat.index = views_by_cat.index.astype('str')"
   ]
  },
  {
   "cell_type": "code",
   "execution_count": 45,
   "id": "65d19595",
   "metadata": {},
   "outputs": [
    {
     "data": {
      "image/png": "[encoded data removed]",
      "text/plain": [
       "<Figure size 640x480 with 1 Axes>"
      ]
     },
     "metadata": {},
     "output_type": "display_data"
    }
   ],
   "source": [
    "fig, axis = plt.subplots()\n",
    "axis.bar(views_by_cat.index, views_by_cat, color='b',  linewidth=0.7)\n",
    "axis.bar(comments_by_cat.index, comments_by_cat*30 ,color='r',  linewidth=0.7)\n",
    "plt.show() "
   ]
  },
  {
   "cell_type": "code",
   "execution_count": 49,
   "id": "d6e894dd",
   "metadata": {},
   "outputs": [
    {
     "data": {
      "image/png": "[encoded data removed]",
      "text/plain": [
       "<Figure size 640x480 with 2 Axes>"
      ]
     },
     "metadata": {},
     "output_type": "display_data"
    }
   ],
   "source": [
    "fig, ax = plt.subplots(nrows=1 , ncols=2)\n",
    "ax[0].pie(views_by_cat, labels=views_by_cat.index)\n",
    "ax[1].pie(comments_by_cat, labels=comments_by_cat.index)\n",
    "plt.show() "
   ]
  },
  {
   "cell_type": "code",
   "execution_count": null,
   "id": "098ba17c",
   "metadata": {},
   "outputs": [],
   "source": []
  }
 ],
 "metadata": {
  "kernelspec": {
   "display_name": "Python 3 (ipykernel)",
   "language": "python",
   "name": "python3"
  },
  "language_info": {
   "codemirror_mode": {
    "name": "ipython",
    "version": 3
   },
   "file_extension": ".py",
   "mimetype": "text/x-python",
   "name": "python",
   "nbconvert_exporter": "python",
   "pygments_lexer": "ipython3",
   "version": "3.9.13"
  }
 },
 "nbformat": 4,
 "nbformat_minor": 5
}
