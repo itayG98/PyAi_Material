{
 "cells": [
  {
   "cell_type": "markdown",
   "id": "a0d06286",
   "metadata": {},
   "source": [
    "# <span style=\"color:black\">Imports of libraries</span>"
   ]
  },
  {
   "cell_type": "code",
   "execution_count": 1,
   "id": "c6ab0655",
   "metadata": {},
   "outputs": [],
   "source": [
    "import pandas as pd\n",
    "# ! pip intall pandas\n",
    "import numpy as np\n",
    "import xlrd\n",
    "import os \n",
    "import io\n",
    "import math"
   ]
  },
  {
   "cell_type": "code",
   "execution_count": 2,
   "id": "172400e4",
   "metadata": {},
   "outputs": [],
   "source": [
    "%matplotlib inline"
   ]
  },
  {
   "cell_type": "markdown",
   "id": "56cbbc11",
   "metadata": {},
   "source": [
    " ## <span style=\"color:black\">Init constrains</span>"
   ]
  },
  {
   "cell_type": "code",
   "execution_count": 3,
   "id": "a484eb6e",
   "metadata": {},
   "outputs": [],
   "source": [
    "show_limit = 4"
   ]
  },
  {
   "cell_type": "markdown",
   "id": "15c1c686",
   "metadata": {},
   "source": [
    "## Join two series into DF"
   ]
  },
  {
   "cell_type": "code",
   "execution_count": 4,
   "id": "d81dceed",
   "metadata": {},
   "outputs": [],
   "source": [
    "# id of person\n",
    "ID = np.random.randint(1000,9999,size=(5) ,dtype='int16')\n",
    "# 2 columns\n",
    "names =pd.Series(['Yossi','Ben','Josh','Ran','Asaf'],index=ID)\n",
    "school =pd.Series(['Mekif h','Meakif Y','Mekif D','Mekif TV','Mekif TV'],index=ID)\n",
    "#create frame\n",
    "frame ={'Name': names, 'School': school}\n",
    "df = pd.DataFrame(frame)"
   ]
  },
  {
   "cell_type": "code",
   "execution_count": 5,
   "id": "17bafa96",
   "metadata": {},
   "outputs": [
    {
     "data": {
      "text/html": [
       "<div>\n",
       "<style scoped>\n",
       "    .dataframe tbody tr th:only-of-type {\n",
       "        vertical-align: middle;\n",
       "    }\n",
       "\n",
       "    .dataframe tbody tr th {\n",
       "        vertical-align: top;\n",
       "    }\n",
       "\n",
       "    .dataframe thead th {\n",
       "        text-align: right;\n",
       "    }\n",
       "</style>\n",
       "<table border=\"1\" class=\"dataframe\">\n",
       "  <thead>\n",
       "    <tr style=\"text-align: right;\">\n",
       "      <th></th>\n",
       "      <th>Name</th>\n",
       "      <th>School</th>\n",
       "    </tr>\n",
       "  </thead>\n",
       "  <tbody>\n",
       "    <tr>\n",
       "      <th>8098</th>\n",
       "      <td>Yossi</td>\n",
       "      <td>Mekif h</td>\n",
       "    </tr>\n",
       "    <tr>\n",
       "      <th>8538</th>\n",
       "      <td>Ben</td>\n",
       "      <td>Meakif Y</td>\n",
       "    </tr>\n",
       "    <tr>\n",
       "      <th>4020</th>\n",
       "      <td>Josh</td>\n",
       "      <td>Mekif D</td>\n",
       "    </tr>\n",
       "    <tr>\n",
       "      <th>5248</th>\n",
       "      <td>Ran</td>\n",
       "      <td>Mekif TV</td>\n",
       "    </tr>\n",
       "    <tr>\n",
       "      <th>1723</th>\n",
       "      <td>Asaf</td>\n",
       "      <td>Mekif TV</td>\n",
       "    </tr>\n",
       "  </tbody>\n",
       "</table>\n",
       "</div>"
      ],
      "text/plain": [
       "       Name    School\n",
       "8098  Yossi   Mekif h\n",
       "8538    Ben  Meakif Y\n",
       "4020   Josh   Mekif D\n",
       "5248    Ran  Mekif TV\n",
       "1723   Asaf  Mekif TV"
      ]
     },
     "execution_count": 5,
     "metadata": {},
     "output_type": "execute_result"
    }
   ],
   "source": [
    "df"
   ]
  },
  {
   "cell_type": "code",
   "execution_count": 6,
   "id": "279e101e",
   "metadata": {},
   "outputs": [],
   "source": [
    "#Add another row \n",
    "age =pd.Series([17,16,18,17,16],index=ID)\n",
    "age.name = 'Age'\n",
    "df = pd.concat([df, age] , axis = 1 ,join='inner')"
   ]
  },
  {
   "cell_type": "markdown",
   "id": "d3dae1ba",
   "metadata": {},
   "source": [
    "## Add another row "
   ]
  },
  {
   "cell_type": "code",
   "execution_count": 7,
   "id": "ee5ae6c1",
   "metadata": {},
   "outputs": [],
   "source": [
    "python_grade =pd.Series([80,82,78,92,100],index=ID)\n",
    "df['Python Grade'] = python_grade "
   ]
  },
  {
   "cell_type": "markdown",
   "id": "08c41a09",
   "metadata": {},
   "source": [
    "## Add another row "
   ]
  },
  {
   "cell_type": "code",
   "execution_count": 8,
   "id": "97693c88",
   "metadata": {},
   "outputs": [],
   "source": [
    "math_grade =pd.Series([83,89,78,92,75],index=ID)\n",
    "df['Math Grade'] = math_grade "
   ]
  },
  {
   "cell_type": "code",
   "execution_count": 9,
   "id": "4a5d8bd5",
   "metadata": {},
   "outputs": [],
   "source": [
    "df['Average'] = (df['Math Grade'] + df['Python Grade'])/2"
   ]
  },
  {
   "cell_type": "code",
   "execution_count": 10,
   "id": "16d09a0a",
   "metadata": {},
   "outputs": [
    {
     "data": {
      "text/html": [
       "<div>\n",
       "<style scoped>\n",
       "    .dataframe tbody tr th:only-of-type {\n",
       "        vertical-align: middle;\n",
       "    }\n",
       "\n",
       "    .dataframe tbody tr th {\n",
       "        vertical-align: top;\n",
       "    }\n",
       "\n",
       "    .dataframe thead th {\n",
       "        text-align: right;\n",
       "    }\n",
       "</style>\n",
       "<table border=\"1\" class=\"dataframe\">\n",
       "  <thead>\n",
       "    <tr style=\"text-align: right;\">\n",
       "      <th></th>\n",
       "      <th>Name</th>\n",
       "      <th>School</th>\n",
       "      <th>Age</th>\n",
       "      <th>Python Grade</th>\n",
       "      <th>Math Grade</th>\n",
       "      <th>Average</th>\n",
       "    </tr>\n",
       "  </thead>\n",
       "  <tbody>\n",
       "    <tr>\n",
       "      <th>8098</th>\n",
       "      <td>Yossi</td>\n",
       "      <td>Mekif h</td>\n",
       "      <td>17</td>\n",
       "      <td>80</td>\n",
       "      <td>83</td>\n",
       "      <td>81.5</td>\n",
       "    </tr>\n",
       "    <tr>\n",
       "      <th>8538</th>\n",
       "      <td>Ben</td>\n",
       "      <td>Meakif Y</td>\n",
       "      <td>16</td>\n",
       "      <td>82</td>\n",
       "      <td>89</td>\n",
       "      <td>85.5</td>\n",
       "    </tr>\n",
       "    <tr>\n",
       "      <th>4020</th>\n",
       "      <td>Josh</td>\n",
       "      <td>Mekif D</td>\n",
       "      <td>18</td>\n",
       "      <td>78</td>\n",
       "      <td>78</td>\n",
       "      <td>78.0</td>\n",
       "    </tr>\n",
       "    <tr>\n",
       "      <th>5248</th>\n",
       "      <td>Ran</td>\n",
       "      <td>Mekif TV</td>\n",
       "      <td>17</td>\n",
       "      <td>92</td>\n",
       "      <td>92</td>\n",
       "      <td>92.0</td>\n",
       "    </tr>\n",
       "    <tr>\n",
       "      <th>1723</th>\n",
       "      <td>Asaf</td>\n",
       "      <td>Mekif TV</td>\n",
       "      <td>16</td>\n",
       "      <td>100</td>\n",
       "      <td>75</td>\n",
       "      <td>87.5</td>\n",
       "    </tr>\n",
       "  </tbody>\n",
       "</table>\n",
       "</div>"
      ],
      "text/plain": [
       "       Name    School  Age  Python Grade  Math Grade  Average\n",
       "8098  Yossi   Mekif h   17            80          83     81.5\n",
       "8538    Ben  Meakif Y   16            82          89     85.5\n",
       "4020   Josh   Mekif D   18            78          78     78.0\n",
       "5248    Ran  Mekif TV   17            92          92     92.0\n",
       "1723   Asaf  Mekif TV   16           100          75     87.5"
      ]
     },
     "execution_count": 10,
     "metadata": {},
     "output_type": "execute_result"
    }
   ],
   "source": [
    "df"
   ]
  },
  {
   "cell_type": "markdown",
   "id": "14814117",
   "metadata": {},
   "source": [
    "# Drop"
   ]
  },
  {
   "cell_type": "markdown",
   "id": "917ec892",
   "metadata": {},
   "source": [
    "## drop a row by the index (id)"
   ]
  },
  {
   "cell_type": "code",
   "execution_count": 11,
   "id": "07c36ae0",
   "metadata": {},
   "outputs": [],
   "source": [
    "#df.drop(6302 ,axis=0 , inplace=True)\n",
    "#df.drop(6302 ,axis='index' , inplace=True)"
   ]
  },
  {
   "cell_type": "code",
   "execution_count": 12,
   "id": "5c0014f0",
   "metadata": {},
   "outputs": [
    {
     "data": {
      "text/html": [
       "<div>\n",
       "<style scoped>\n",
       "    .dataframe tbody tr th:only-of-type {\n",
       "        vertical-align: middle;\n",
       "    }\n",
       "\n",
       "    .dataframe tbody tr th {\n",
       "        vertical-align: top;\n",
       "    }\n",
       "\n",
       "    .dataframe thead th {\n",
       "        text-align: right;\n",
       "    }\n",
       "</style>\n",
       "<table border=\"1\" class=\"dataframe\">\n",
       "  <thead>\n",
       "    <tr style=\"text-align: right;\">\n",
       "      <th></th>\n",
       "      <th>Name</th>\n",
       "      <th>School</th>\n",
       "      <th>Age</th>\n",
       "      <th>Python Grade</th>\n",
       "      <th>Math Grade</th>\n",
       "      <th>Average</th>\n",
       "    </tr>\n",
       "  </thead>\n",
       "  <tbody>\n",
       "    <tr>\n",
       "      <th>8098</th>\n",
       "      <td>Yossi</td>\n",
       "      <td>Mekif h</td>\n",
       "      <td>17</td>\n",
       "      <td>80</td>\n",
       "      <td>83</td>\n",
       "      <td>81.5</td>\n",
       "    </tr>\n",
       "    <tr>\n",
       "      <th>8538</th>\n",
       "      <td>Ben</td>\n",
       "      <td>Meakif Y</td>\n",
       "      <td>16</td>\n",
       "      <td>82</td>\n",
       "      <td>89</td>\n",
       "      <td>85.5</td>\n",
       "    </tr>\n",
       "    <tr>\n",
       "      <th>4020</th>\n",
       "      <td>Josh</td>\n",
       "      <td>Mekif D</td>\n",
       "      <td>18</td>\n",
       "      <td>78</td>\n",
       "      <td>78</td>\n",
       "      <td>78.0</td>\n",
       "    </tr>\n",
       "    <tr>\n",
       "      <th>5248</th>\n",
       "      <td>Ran</td>\n",
       "      <td>Mekif TV</td>\n",
       "      <td>17</td>\n",
       "      <td>92</td>\n",
       "      <td>92</td>\n",
       "      <td>92.0</td>\n",
       "    </tr>\n",
       "    <tr>\n",
       "      <th>1723</th>\n",
       "      <td>Asaf</td>\n",
       "      <td>Mekif TV</td>\n",
       "      <td>16</td>\n",
       "      <td>100</td>\n",
       "      <td>75</td>\n",
       "      <td>87.5</td>\n",
       "    </tr>\n",
       "  </tbody>\n",
       "</table>\n",
       "</div>"
      ],
      "text/plain": [
       "       Name    School  Age  Python Grade  Math Grade  Average\n",
       "8098  Yossi   Mekif h   17            80          83     81.5\n",
       "8538    Ben  Meakif Y   16            82          89     85.5\n",
       "4020   Josh   Mekif D   18            78          78     78.0\n",
       "5248    Ran  Mekif TV   17            92          92     92.0\n",
       "1723   Asaf  Mekif TV   16           100          75     87.5"
      ]
     },
     "execution_count": 12,
     "metadata": {},
     "output_type": "execute_result"
    }
   ],
   "source": [
    "df"
   ]
  },
  {
   "cell_type": "markdown",
   "id": "03315585",
   "metadata": {},
   "source": [
    "## Drop a column"
   ]
  },
  {
   "cell_type": "code",
   "execution_count": 13,
   "id": "eebb63fa",
   "metadata": {},
   "outputs": [],
   "source": [
    "#df.drop(['Average','Math Grade'] ,axis='1' , inplace=True)\n",
    "df.drop(['Average','Math Grade'] ,axis='columns' , inplace=True)"
   ]
  },
  {
   "cell_type": "code",
   "execution_count": 14,
   "id": "0ee0c16a",
   "metadata": {},
   "outputs": [
    {
     "data": {
      "text/html": [
       "<div>\n",
       "<style scoped>\n",
       "    .dataframe tbody tr th:only-of-type {\n",
       "        vertical-align: middle;\n",
       "    }\n",
       "\n",
       "    .dataframe tbody tr th {\n",
       "        vertical-align: top;\n",
       "    }\n",
       "\n",
       "    .dataframe thead th {\n",
       "        text-align: right;\n",
       "    }\n",
       "</style>\n",
       "<table border=\"1\" class=\"dataframe\">\n",
       "  <thead>\n",
       "    <tr style=\"text-align: right;\">\n",
       "      <th></th>\n",
       "      <th>Name</th>\n",
       "      <th>School</th>\n",
       "      <th>Age</th>\n",
       "      <th>Python Grade</th>\n",
       "    </tr>\n",
       "  </thead>\n",
       "  <tbody>\n",
       "    <tr>\n",
       "      <th>8098</th>\n",
       "      <td>Yossi</td>\n",
       "      <td>Mekif h</td>\n",
       "      <td>17</td>\n",
       "      <td>80</td>\n",
       "    </tr>\n",
       "    <tr>\n",
       "      <th>8538</th>\n",
       "      <td>Ben</td>\n",
       "      <td>Meakif Y</td>\n",
       "      <td>16</td>\n",
       "      <td>82</td>\n",
       "    </tr>\n",
       "    <tr>\n",
       "      <th>4020</th>\n",
       "      <td>Josh</td>\n",
       "      <td>Mekif D</td>\n",
       "      <td>18</td>\n",
       "      <td>78</td>\n",
       "    </tr>\n",
       "    <tr>\n",
       "      <th>5248</th>\n",
       "      <td>Ran</td>\n",
       "      <td>Mekif TV</td>\n",
       "      <td>17</td>\n",
       "      <td>92</td>\n",
       "    </tr>\n",
       "    <tr>\n",
       "      <th>1723</th>\n",
       "      <td>Asaf</td>\n",
       "      <td>Mekif TV</td>\n",
       "      <td>16</td>\n",
       "      <td>100</td>\n",
       "    </tr>\n",
       "  </tbody>\n",
       "</table>\n",
       "</div>"
      ],
      "text/plain": [
       "       Name    School  Age  Python Grade\n",
       "8098  Yossi   Mekif h   17            80\n",
       "8538    Ben  Meakif Y   16            82\n",
       "4020   Josh   Mekif D   18            78\n",
       "5248    Ran  Mekif TV   17            92\n",
       "1723   Asaf  Mekif TV   16           100"
      ]
     },
     "execution_count": 14,
     "metadata": {},
     "output_type": "execute_result"
    }
   ],
   "source": [
    "df"
   ]
  },
  {
   "cell_type": "markdown",
   "id": "b2adbc31",
   "metadata": {},
   "source": [
    "# Update data"
   ]
  },
  {
   "cell_type": "markdown",
   "id": "40e22a5c",
   "metadata": {},
   "source": [
    "## Birthday func"
   ]
  },
  {
   "cell_type": "code",
   "execution_count": 15,
   "id": "58178742",
   "metadata": {},
   "outputs": [],
   "source": [
    "def birthday( age : int) :\n",
    "    return age+1"
   ]
  },
  {
   "cell_type": "code",
   "execution_count": 16,
   "id": "035e9554",
   "metadata": {},
   "outputs": [],
   "source": [
    "df['Age'] = df['Age'].apply(birthday)"
   ]
  },
  {
   "cell_type": "code",
   "execution_count": 17,
   "id": "db2855ca",
   "metadata": {},
   "outputs": [
    {
     "data": {
      "text/html": [
       "<div>\n",
       "<style scoped>\n",
       "    .dataframe tbody tr th:only-of-type {\n",
       "        vertical-align: middle;\n",
       "    }\n",
       "\n",
       "    .dataframe tbody tr th {\n",
       "        vertical-align: top;\n",
       "    }\n",
       "\n",
       "    .dataframe thead th {\n",
       "        text-align: right;\n",
       "    }\n",
       "</style>\n",
       "<table border=\"1\" class=\"dataframe\">\n",
       "  <thead>\n",
       "    <tr style=\"text-align: right;\">\n",
       "      <th></th>\n",
       "      <th>Name</th>\n",
       "      <th>School</th>\n",
       "      <th>Age</th>\n",
       "      <th>Python Grade</th>\n",
       "    </tr>\n",
       "  </thead>\n",
       "  <tbody>\n",
       "    <tr>\n",
       "      <th>8098</th>\n",
       "      <td>Yossi</td>\n",
       "      <td>Mekif h</td>\n",
       "      <td>18</td>\n",
       "      <td>80</td>\n",
       "    </tr>\n",
       "    <tr>\n",
       "      <th>8538</th>\n",
       "      <td>Ben</td>\n",
       "      <td>Meakif Y</td>\n",
       "      <td>17</td>\n",
       "      <td>82</td>\n",
       "    </tr>\n",
       "    <tr>\n",
       "      <th>4020</th>\n",
       "      <td>Josh</td>\n",
       "      <td>Mekif D</td>\n",
       "      <td>19</td>\n",
       "      <td>78</td>\n",
       "    </tr>\n",
       "    <tr>\n",
       "      <th>5248</th>\n",
       "      <td>Ran</td>\n",
       "      <td>Mekif TV</td>\n",
       "      <td>18</td>\n",
       "      <td>92</td>\n",
       "    </tr>\n",
       "    <tr>\n",
       "      <th>1723</th>\n",
       "      <td>Asaf</td>\n",
       "      <td>Mekif TV</td>\n",
       "      <td>17</td>\n",
       "      <td>100</td>\n",
       "    </tr>\n",
       "  </tbody>\n",
       "</table>\n",
       "</div>"
      ],
      "text/plain": [
       "       Name    School  Age  Python Grade\n",
       "8098  Yossi   Mekif h   18            80\n",
       "8538    Ben  Meakif Y   17            82\n",
       "4020   Josh   Mekif D   19            78\n",
       "5248    Ran  Mekif TV   18            92\n",
       "1723   Asaf  Mekif TV   17           100"
      ]
     },
     "execution_count": 17,
     "metadata": {},
     "output_type": "execute_result"
    }
   ],
   "source": [
    "df"
   ]
  },
  {
   "cell_type": "markdown",
   "id": "bda1e0f2",
   "metadata": {},
   "source": [
    "## Update a single value"
   ]
  },
  {
   "cell_type": "code",
   "execution_count": 18,
   "id": "bff01968",
   "metadata": {},
   "outputs": [],
   "source": [
    "df.loc[df['Name'] == 'Yossi', 'Python Grade'] = 100"
   ]
  },
  {
   "cell_type": "markdown",
   "id": "360ea808",
   "metadata": {},
   "source": [
    "## Get Yossi's ID"
   ]
  },
  {
   "cell_type": "code",
   "execution_count": 19,
   "id": "aefb9eac",
   "metadata": {},
   "outputs": [],
   "source": [
    "index_of_yossi = df.index[df['Name'] == 'Yossi'][0]"
   ]
  },
  {
   "cell_type": "code",
   "execution_count": 20,
   "id": "41a65703",
   "metadata": {},
   "outputs": [],
   "source": [
    "df.at[index_of_yossi, 'Age'] = 19"
   ]
  },
  {
   "cell_type": "markdown",
   "id": "64c089f0",
   "metadata": {},
   "source": [
    "# Add data to the table "
   ]
  },
  {
   "cell_type": "code",
   "execution_count": 21,
   "id": "c01556c9",
   "metadata": {},
   "outputs": [],
   "source": [
    "avner_data = ['Avner' ,'Mekif D',17,90 ]\n",
    "df.loc[11111] = avner_data"
   ]
  },
  {
   "cell_type": "code",
   "execution_count": 22,
   "id": "c10aff89",
   "metadata": {},
   "outputs": [],
   "source": [
    "shon_df =pd.DataFrame({'Name': 'Shon' ,'School': 'Mekif TV', 'Age': 17 , \"Python Grade\" : 99},index=[2222])\n",
    "df = pd.concat([df,shon_df])"
   ]
  },
  {
   "cell_type": "code",
   "execution_count": 23,
   "id": "3660fb2b",
   "metadata": {},
   "outputs": [
    {
     "data": {
      "text/html": [
       "<div>\n",
       "<style scoped>\n",
       "    .dataframe tbody tr th:only-of-type {\n",
       "        vertical-align: middle;\n",
       "    }\n",
       "\n",
       "    .dataframe tbody tr th {\n",
       "        vertical-align: top;\n",
       "    }\n",
       "\n",
       "    .dataframe thead th {\n",
       "        text-align: right;\n",
       "    }\n",
       "</style>\n",
       "<table border=\"1\" class=\"dataframe\">\n",
       "  <thead>\n",
       "    <tr style=\"text-align: right;\">\n",
       "      <th></th>\n",
       "      <th>Name</th>\n",
       "      <th>School</th>\n",
       "      <th>Age</th>\n",
       "      <th>Python Grade</th>\n",
       "    </tr>\n",
       "  </thead>\n",
       "  <tbody>\n",
       "    <tr>\n",
       "      <th>8098</th>\n",
       "      <td>Yossi</td>\n",
       "      <td>Mekif h</td>\n",
       "      <td>19</td>\n",
       "      <td>100</td>\n",
       "    </tr>\n",
       "    <tr>\n",
       "      <th>8538</th>\n",
       "      <td>Ben</td>\n",
       "      <td>Meakif Y</td>\n",
       "      <td>17</td>\n",
       "      <td>82</td>\n",
       "    </tr>\n",
       "    <tr>\n",
       "      <th>4020</th>\n",
       "      <td>Josh</td>\n",
       "      <td>Mekif D</td>\n",
       "      <td>19</td>\n",
       "      <td>78</td>\n",
       "    </tr>\n",
       "    <tr>\n",
       "      <th>5248</th>\n",
       "      <td>Ran</td>\n",
       "      <td>Mekif TV</td>\n",
       "      <td>18</td>\n",
       "      <td>92</td>\n",
       "    </tr>\n",
       "    <tr>\n",
       "      <th>1723</th>\n",
       "      <td>Asaf</td>\n",
       "      <td>Mekif TV</td>\n",
       "      <td>17</td>\n",
       "      <td>100</td>\n",
       "    </tr>\n",
       "    <tr>\n",
       "      <th>11111</th>\n",
       "      <td>Avner</td>\n",
       "      <td>Mekif D</td>\n",
       "      <td>17</td>\n",
       "      <td>90</td>\n",
       "    </tr>\n",
       "    <tr>\n",
       "      <th>2222</th>\n",
       "      <td>Shon</td>\n",
       "      <td>Mekif TV</td>\n",
       "      <td>17</td>\n",
       "      <td>99</td>\n",
       "    </tr>\n",
       "  </tbody>\n",
       "</table>\n",
       "</div>"
      ],
      "text/plain": [
       "        Name    School  Age  Python Grade\n",
       "8098   Yossi   Mekif h   19           100\n",
       "8538     Ben  Meakif Y   17            82\n",
       "4020    Josh   Mekif D   19            78\n",
       "5248     Ran  Mekif TV   18            92\n",
       "1723    Asaf  Mekif TV   17           100\n",
       "11111  Avner   Mekif D   17            90\n",
       "2222    Shon  Mekif TV   17            99"
      ]
     },
     "execution_count": 23,
     "metadata": {},
     "output_type": "execute_result"
    }
   ],
   "source": [
    "df"
   ]
  },
  {
   "cell_type": "markdown",
   "id": "af6dcc67",
   "metadata": {
    "scrolled": true
   },
   "source": [
    "# Read data in two ways"
   ]
  },
  {
   "cell_type": "code",
   "execution_count": 24,
   "id": "45e654ee",
   "metadata": {
    "scrolled": true
   },
   "outputs": [
    {
     "data": {
      "text/html": [
       "<div>\n",
       "<style scoped>\n",
       "    .dataframe tbody tr th:only-of-type {\n",
       "        vertical-align: middle;\n",
       "    }\n",
       "\n",
       "    .dataframe tbody tr th {\n",
       "        vertical-align: top;\n",
       "    }\n",
       "\n",
       "    .dataframe thead th {\n",
       "        text-align: right;\n",
       "    }\n",
       "</style>\n",
       "<table border=\"1\" class=\"dataframe\">\n",
       "  <thead>\n",
       "    <tr style=\"text-align: right;\">\n",
       "      <th></th>\n",
       "      <th>Name</th>\n",
       "      <th>Date</th>\n",
       "      <th>Rate</th>\n",
       "      <th>Votes</th>\n",
       "      <th>Genre</th>\n",
       "      <th>Duration</th>\n",
       "      <th>Type</th>\n",
       "      <th>Certificate</th>\n",
       "      <th>Episodes</th>\n",
       "      <th>Nudity</th>\n",
       "      <th>Violence</th>\n",
       "      <th>Profanity</th>\n",
       "      <th>Alcohol</th>\n",
       "      <th>Frightening</th>\n",
       "    </tr>\n",
       "  </thead>\n",
       "  <tbody>\n",
       "    <tr>\n",
       "      <th>2992</th>\n",
       "      <td>Guardians of the Galaxy Vol. 3</td>\n",
       "      <td>2023</td>\n",
       "      <td>No Rate</td>\n",
       "      <td>No Votes</td>\n",
       "      <td>Action, Adventure, Comedy</td>\n",
       "      <td>None</td>\n",
       "      <td>Film</td>\n",
       "      <td>None</td>\n",
       "      <td>-</td>\n",
       "      <td>No Rate</td>\n",
       "      <td>No Rate</td>\n",
       "      <td>No Rate</td>\n",
       "      <td>No Rate</td>\n",
       "      <td>No Rate</td>\n",
       "    </tr>\n",
       "    <tr>\n",
       "      <th>5554</th>\n",
       "      <td>Jonathan Creek</td>\n",
       "      <td>2023</td>\n",
       "      <td>8.1</td>\n",
       "      <td>7,069</td>\n",
       "      <td>Comedy, Crime, Drama</td>\n",
       "      <td>60</td>\n",
       "      <td>Series</td>\n",
       "      <td>TV-MA</td>\n",
       "      <td>32</td>\n",
       "      <td>Moderate</td>\n",
       "      <td>Moderate</td>\n",
       "      <td>Moderate</td>\n",
       "      <td>No Rate</td>\n",
       "      <td>Mild</td>\n",
       "    </tr>\n",
       "    <tr>\n",
       "      <th>5872</th>\n",
       "      <td>One Foot in the Grave</td>\n",
       "      <td>2023</td>\n",
       "      <td>7.8</td>\n",
       "      <td>6,070</td>\n",
       "      <td>Comedy, Drama</td>\n",
       "      <td>90</td>\n",
       "      <td>Series</td>\n",
       "      <td>TV-PG</td>\n",
       "      <td>44</td>\n",
       "      <td>None</td>\n",
       "      <td>Mild</td>\n",
       "      <td>Moderate</td>\n",
       "      <td>Mild</td>\n",
       "      <td>Mild</td>\n",
       "    </tr>\n",
       "    <tr>\n",
       "      <th>4722</th>\n",
       "      <td>One Foot in the Grave</td>\n",
       "      <td>2023</td>\n",
       "      <td>7.8</td>\n",
       "      <td>6,070</td>\n",
       "      <td>Comedy, Drama</td>\n",
       "      <td>90</td>\n",
       "      <td>Series</td>\n",
       "      <td>TV-PG</td>\n",
       "      <td>44</td>\n",
       "      <td>None</td>\n",
       "      <td>Mild</td>\n",
       "      <td>Moderate</td>\n",
       "      <td>Mild</td>\n",
       "      <td>Mild</td>\n",
       "    </tr>\n",
       "  </tbody>\n",
       "</table>\n",
       "</div>"
      ],
      "text/plain": [
       "                                Name  Date     Rate     Votes  \\\n",
       "2992  Guardians of the Galaxy Vol. 3  2023  No Rate  No Votes   \n",
       "5554                  Jonathan Creek  2023      8.1     7,069   \n",
       "5872           One Foot in the Grave  2023      7.8     6,070   \n",
       "4722           One Foot in the Grave  2023      7.8     6,070   \n",
       "\n",
       "                          Genre Duration    Type Certificate Episodes  \\\n",
       "2992  Action, Adventure, Comedy     None    Film        None        -   \n",
       "5554       Comedy, Crime, Drama      60   Series       TV-MA       32   \n",
       "5872              Comedy, Drama      90   Series       TV-PG       44   \n",
       "4722              Comedy, Drama      90   Series       TV-PG       44   \n",
       "\n",
       "        Nudity  Violence Profanity  Alcohol Frightening  \n",
       "2992   No Rate   No Rate   No Rate  No Rate     No Rate  \n",
       "5554  Moderate  Moderate  Moderate  No Rate        Mild  \n",
       "5872      None      Mild  Moderate     Mild        Mild  \n",
       "4722      None      Mild  Moderate     Mild        Mild  "
      ]
     },
     "execution_count": 24,
     "metadata": {},
     "output_type": "execute_result"
    }
   ],
   "source": [
    "df = pd.read_csv('imdb.csv')\n",
    "df.sort_values(['Date'],ascending=False,inplace=True)\n",
    "#df = pd.read_csv('imdb.txt', delimiter=',') \n",
    "df.head(show_limit)"
   ]
  },
  {
   "cell_type": "markdown",
   "id": "9c87f540",
   "metadata": {
    "scrolled": false
   },
   "source": [
    " # <span style=\"color:black\">Get preffered data</span>"
   ]
  },
  {
   "cell_type": "code",
   "execution_count": 25,
   "id": "9b3c5d46",
   "metadata": {},
   "outputs": [],
   "source": [
    "important_stat = df[['Name','Date','Rate','Genre','Certificate']]"
   ]
  },
  {
   "cell_type": "code",
   "execution_count": 26,
   "id": "7ed0dd7f",
   "metadata": {
    "scrolled": false
   },
   "outputs": [
    {
     "data": {
      "text/html": [
       "<div>\n",
       "<style scoped>\n",
       "    .dataframe tbody tr th:only-of-type {\n",
       "        vertical-align: middle;\n",
       "    }\n",
       "\n",
       "    .dataframe tbody tr th {\n",
       "        vertical-align: top;\n",
       "    }\n",
       "\n",
       "    .dataframe thead th {\n",
       "        text-align: right;\n",
       "    }\n",
       "</style>\n",
       "<table border=\"1\" class=\"dataframe\">\n",
       "  <thead>\n",
       "    <tr style=\"text-align: right;\">\n",
       "      <th></th>\n",
       "      <th>Name</th>\n",
       "      <th>Date</th>\n",
       "      <th>Rate</th>\n",
       "      <th>Genre</th>\n",
       "      <th>Certificate</th>\n",
       "    </tr>\n",
       "  </thead>\n",
       "  <tbody>\n",
       "    <tr>\n",
       "      <th>2992</th>\n",
       "      <td>Guardians of the Galaxy Vol. 3</td>\n",
       "      <td>2023</td>\n",
       "      <td>No Rate</td>\n",
       "      <td>Action, Adventure, Comedy</td>\n",
       "      <td>None</td>\n",
       "    </tr>\n",
       "    <tr>\n",
       "      <th>5554</th>\n",
       "      <td>Jonathan Creek</td>\n",
       "      <td>2023</td>\n",
       "      <td>8.1</td>\n",
       "      <td>Comedy, Crime, Drama</td>\n",
       "      <td>TV-MA</td>\n",
       "    </tr>\n",
       "    <tr>\n",
       "      <th>5872</th>\n",
       "      <td>One Foot in the Grave</td>\n",
       "      <td>2023</td>\n",
       "      <td>7.8</td>\n",
       "      <td>Comedy, Drama</td>\n",
       "      <td>TV-PG</td>\n",
       "    </tr>\n",
       "    <tr>\n",
       "      <th>4722</th>\n",
       "      <td>One Foot in the Grave</td>\n",
       "      <td>2023</td>\n",
       "      <td>7.8</td>\n",
       "      <td>Comedy, Drama</td>\n",
       "      <td>TV-PG</td>\n",
       "    </tr>\n",
       "  </tbody>\n",
       "</table>\n",
       "</div>"
      ],
      "text/plain": [
       "                                Name  Date     Rate  \\\n",
       "2992  Guardians of the Galaxy Vol. 3  2023  No Rate   \n",
       "5554                  Jonathan Creek  2023      8.1   \n",
       "5872           One Foot in the Grave  2023      7.8   \n",
       "4722           One Foot in the Grave  2023      7.8   \n",
       "\n",
       "                          Genre Certificate  \n",
       "2992  Action, Adventure, Comedy        None  \n",
       "5554       Comedy, Crime, Drama       TV-MA  \n",
       "5872              Comedy, Drama       TV-PG  \n",
       "4722              Comedy, Drama       TV-PG  "
      ]
     },
     "execution_count": 26,
     "metadata": {},
     "output_type": "execute_result"
    }
   ],
   "source": [
    "important_stat.head(show_limit)"
   ]
  },
  {
   "cell_type": "markdown",
   "id": "737f9cdd",
   "metadata": {},
   "source": [
    " # <span style=\"color:black\">Craete a copy and clean invalid data into np.nan</span>"
   ]
  },
  {
   "cell_type": "code",
   "execution_count": 27,
   "id": "6e79b1a8",
   "metadata": {},
   "outputs": [],
   "source": [
    "important_stat_with_nan = important_stat.copy()"
   ]
  },
  {
   "cell_type": "code",
   "execution_count": 28,
   "id": "1e634105",
   "metadata": {},
   "outputs": [],
   "source": [
    "important_stat_with_nan['Rate'] = important_stat_with_nan['Rate'].replace('No Rate', np.nan)"
   ]
  },
  {
   "cell_type": "code",
   "execution_count": 29,
   "id": "9c010512",
   "metadata": {},
   "outputs": [],
   "source": [
    "important_stat_with_nan['Rate'] = important_stat_with_nan['Rate'].astype(float)\n",
    "#important_stat_with_nan.describe(include='all')"
   ]
  },
  {
   "cell_type": "code",
   "execution_count": 30,
   "id": "6ef77dd8",
   "metadata": {},
   "outputs": [
    {
     "data": {
      "text/html": [
       "<div>\n",
       "<style scoped>\n",
       "    .dataframe tbody tr th:only-of-type {\n",
       "        vertical-align: middle;\n",
       "    }\n",
       "\n",
       "    .dataframe tbody tr th {\n",
       "        vertical-align: top;\n",
       "    }\n",
       "\n",
       "    .dataframe thead th {\n",
       "        text-align: right;\n",
       "    }\n",
       "</style>\n",
       "<table border=\"1\" class=\"dataframe\">\n",
       "  <thead>\n",
       "    <tr style=\"text-align: right;\">\n",
       "      <th></th>\n",
       "      <th>Name</th>\n",
       "      <th>Date</th>\n",
       "      <th>Rate</th>\n",
       "      <th>Genre</th>\n",
       "      <th>Certificate</th>\n",
       "    </tr>\n",
       "  </thead>\n",
       "  <tbody>\n",
       "    <tr>\n",
       "      <th>2992</th>\n",
       "      <td>Guardians of the Galaxy Vol. 3</td>\n",
       "      <td>2023</td>\n",
       "      <td>NaN</td>\n",
       "      <td>Action, Adventure, Comedy</td>\n",
       "      <td>None</td>\n",
       "    </tr>\n",
       "    <tr>\n",
       "      <th>5554</th>\n",
       "      <td>Jonathan Creek</td>\n",
       "      <td>2023</td>\n",
       "      <td>8.1</td>\n",
       "      <td>Comedy, Crime, Drama</td>\n",
       "      <td>TV-MA</td>\n",
       "    </tr>\n",
       "    <tr>\n",
       "      <th>5872</th>\n",
       "      <td>One Foot in the Grave</td>\n",
       "      <td>2023</td>\n",
       "      <td>7.8</td>\n",
       "      <td>Comedy, Drama</td>\n",
       "      <td>TV-PG</td>\n",
       "    </tr>\n",
       "    <tr>\n",
       "      <th>4722</th>\n",
       "      <td>One Foot in the Grave</td>\n",
       "      <td>2023</td>\n",
       "      <td>7.8</td>\n",
       "      <td>Comedy, Drama</td>\n",
       "      <td>TV-PG</td>\n",
       "    </tr>\n",
       "  </tbody>\n",
       "</table>\n",
       "</div>"
      ],
      "text/plain": [
       "                                Name  Date  Rate                      Genre  \\\n",
       "2992  Guardians of the Galaxy Vol. 3  2023   NaN  Action, Adventure, Comedy   \n",
       "5554                  Jonathan Creek  2023   8.1       Comedy, Crime, Drama   \n",
       "5872           One Foot in the Grave  2023   7.8              Comedy, Drama   \n",
       "4722           One Foot in the Grave  2023   7.8              Comedy, Drama   \n",
       "\n",
       "     Certificate  \n",
       "2992        None  \n",
       "5554       TV-MA  \n",
       "5872       TV-PG  \n",
       "4722       TV-PG  "
      ]
     },
     "execution_count": 30,
     "metadata": {},
     "output_type": "execute_result"
    }
   ],
   "source": [
    "important_stat_with_nan.head(show_limit)"
   ]
  },
  {
   "cell_type": "markdown",
   "id": "9e49ac0f",
   "metadata": {},
   "source": [
    " # <span style=\"color:black\">Group by Genre and sort by rate</span>"
   ]
  },
  {
   "cell_type": "code",
   "execution_count": 31,
   "id": "c51d9868",
   "metadata": {},
   "outputs": [
    {
     "name": "stdout",
     "output_type": "stream",
     "text": [
      "Genre\n",
      "Animation, Family              9.6\n",
      "Comedy, Game-Show              9.0\n",
      "Comedy, History, News          8.9\n",
      "Documentary, Drama, History    8.8\n",
      "Name: Rate, dtype: float64\n",
      "<class 'pandas.core.series.Series'>\n"
     ]
    }
   ],
   "source": [
    "rate_df = important_stat_with_nan.groupby('Genre')['Rate'].mean().sort_values(ascending=False)\n",
    "print(rate_df.head(show_limit))\n",
    "print(type(rate_df))"
   ]
  },
  {
   "cell_type": "markdown",
   "id": "c8d298be",
   "metadata": {},
   "source": [
    " # <span style=\"color:black\">Get a dataframe by condition</span>"
   ]
  },
  {
   "cell_type": "code",
   "execution_count": 32,
   "id": "d310e78d",
   "metadata": {},
   "outputs": [],
   "source": [
    "condition_pass = important_stat_with_nan.loc[(important_stat_with_nan['Certificate'] == 'PG-13') & (important_stat_with_nan['Date'] == 2019)]"
   ]
  },
  {
   "cell_type": "code",
   "execution_count": 33,
   "id": "7b95b68a",
   "metadata": {
    "scrolled": true
   },
   "outputs": [
    {
     "data": {
      "text/html": [
       "<div>\n",
       "<style scoped>\n",
       "    .dataframe tbody tr th:only-of-type {\n",
       "        vertical-align: middle;\n",
       "    }\n",
       "\n",
       "    .dataframe tbody tr th {\n",
       "        vertical-align: top;\n",
       "    }\n",
       "\n",
       "    .dataframe thead th {\n",
       "        text-align: right;\n",
       "    }\n",
       "</style>\n",
       "<table border=\"1\" class=\"dataframe\">\n",
       "  <thead>\n",
       "    <tr style=\"text-align: right;\">\n",
       "      <th></th>\n",
       "      <th>Name</th>\n",
       "      <th>Date</th>\n",
       "      <th>Rate</th>\n",
       "      <th>Genre</th>\n",
       "      <th>Certificate</th>\n",
       "    </tr>\n",
       "  </thead>\n",
       "  <tbody>\n",
       "    <tr>\n",
       "      <th>1406</th>\n",
       "      <td>Fighting with My Family</td>\n",
       "      <td>2019</td>\n",
       "      <td>7.1</td>\n",
       "      <td>Biography, Comedy, Drama</td>\n",
       "      <td>PG-13</td>\n",
       "    </tr>\n",
       "    <tr>\n",
       "      <th>2203</th>\n",
       "      <td>The Hustle</td>\n",
       "      <td>2019</td>\n",
       "      <td>5.4</td>\n",
       "      <td>Comedy, Crime</td>\n",
       "      <td>PG-13</td>\n",
       "    </tr>\n",
       "    <tr>\n",
       "      <th>491</th>\n",
       "      <td>After</td>\n",
       "      <td>2019</td>\n",
       "      <td>5.3</td>\n",
       "      <td>Drama, Romance</td>\n",
       "      <td>PG-13</td>\n",
       "    </tr>\n",
       "    <tr>\n",
       "      <th>1479</th>\n",
       "      <td>Just Mercy</td>\n",
       "      <td>2019</td>\n",
       "      <td>7.6</td>\n",
       "      <td>Biography, Crime, Drama</td>\n",
       "      <td>PG-13</td>\n",
       "    </tr>\n",
       "  </tbody>\n",
       "</table>\n",
       "</div>"
      ],
      "text/plain": [
       "                         Name  Date  Rate                     Genre  \\\n",
       "1406  Fighting with My Family  2019   7.1  Biography, Comedy, Drama   \n",
       "2203               The Hustle  2019   5.4             Comedy, Crime   \n",
       "491                     After  2019   5.3            Drama, Romance   \n",
       "1479               Just Mercy  2019   7.6   Biography, Crime, Drama   \n",
       "\n",
       "     Certificate  \n",
       "1406       PG-13  \n",
       "2203       PG-13  \n",
       "491        PG-13  \n",
       "1479       PG-13  "
      ]
     },
     "execution_count": 33,
     "metadata": {},
     "output_type": "execute_result"
    }
   ],
   "source": [
    "condition_pass.head(show_limit)"
   ]
  },
  {
   "cell_type": "markdown",
   "id": "bf3df87b",
   "metadata": {},
   "source": [
    " # <span style=\"color:black\">iteration over rows Example</span>"
   ]
  },
  {
   "cell_type": "code",
   "execution_count": 34,
   "id": "a77d9a89",
   "metadata": {
    "scrolled": true
   },
   "outputs": [
    {
     "name": "stdout",
     "output_type": "stream",
     "text": [
      "Row 2992:\n",
      "Name: Guardians of the Galaxy Vol. 3\n",
      "Date: 2023\n",
      "Rate: nan\n",
      "---\n",
      "Row 5554:\n",
      "Name: Jonathan Creek\n",
      "Date: 2023\n",
      "Rate: 8.1\n",
      "---\n",
      "Row 5872:\n",
      "Name: One Foot in the Grave\n",
      "Date: 2023\n",
      "Rate: 7.8\n",
      "---\n",
      "Row 4722:\n",
      "Name: One Foot in the Grave\n",
      "Date: 2023\n",
      "Rate: 7.8\n",
      "---\n"
     ]
    }
   ],
   "source": [
    "counter = 0\n",
    "for index, row in important_stat_with_nan.iterrows():\n",
    "    if counter >= show_limit :\n",
    "        break\n",
    "    print(f'Row {index}:')\n",
    "    print(f'Name: {row[\"Name\"]}')\n",
    "    print(f'Date: {row[\"Date\"]}')\n",
    "    print(f'Rate: {row[\"Rate\"]}')\n",
    "    print('---')\n",
    "    counter+=1"
   ]
  },
  {
   "cell_type": "markdown",
   "id": "7acedc72",
   "metadata": {},
   "source": [
    "# Save to a new csv"
   ]
  },
  {
   "cell_type": "code",
   "execution_count": 35,
   "id": "b229e5a6",
   "metadata": {},
   "outputs": [],
   "source": [
    "name = 'important_stat_with_nan.csv'\n",
    "folder_name = 'example_save_csv'\n",
    "os.makedirs(folder_name, exist_ok=True)  \n",
    "important_stat_with_nan.to_csv(f'{folder_name}/{name}', index=True)  \n",
    "important_stat_with_nan.to_csv(f'{name}' , index=True)  "
   ]
  },
  {
   "cell_type": "markdown",
   "id": "26119f03",
   "metadata": {},
   "source": [
    "# Open a csv file"
   ]
  },
  {
   "cell_type": "markdown",
   "id": "3d99a17b",
   "metadata": {},
   "source": [
    "## IO File"
   ]
  },
  {
   "cell_type": "code",
   "execution_count": 36,
   "id": "6df25c42",
   "metadata": {},
   "outputs": [
    {
     "name": "stdout",
     "output_type": "stream",
     "text": [
      "<_io.TextIOWrapper name='data_set_exmpl_csv_version.csv' mode='r' encoding='cp1252'>\n",
      "data_set_exmpl_csv_version.csv\n"
     ]
    }
   ],
   "source": [
    "f = open('data_set_exmpl_csv_version.csv', \"r\")\n",
    "print(f)\n",
    "print(f.name)"
   ]
  },
  {
   "cell_type": "code",
   "execution_count": 37,
   "id": "a059ed53",
   "metadata": {},
   "outputs": [
    {
     "name": "stdout",
     "output_type": "stream",
     "text": [
      "ï»¿Name,Age,major\n",
      "\n",
      "Itay,25,Computer Science\n",
      "\n",
      "Tal,22,Philosophy\n",
      "\n",
      "Aharon,19,Computer Science\n",
      "\n",
      "Lev,26,Architecture\n",
      "\n",
      "Noam,30,Architecture\n",
      "\n",
      "Shir,18,Philosophy\n",
      "\n"
     ]
    }
   ],
   "source": [
    "for x in f:\n",
    "  print(x)"
   ]
  },
  {
   "cell_type": "code",
   "execution_count": 38,
   "id": "fbf68936",
   "metadata": {
    "scrolled": true
   },
   "outputs": [],
   "source": [
    "f.close() "
   ]
  },
  {
   "cell_type": "markdown",
   "id": "c017481f",
   "metadata": {},
   "source": [
    "## Pandas reading"
   ]
  },
  {
   "cell_type": "code",
   "execution_count": 39,
   "id": "6786da46",
   "metadata": {},
   "outputs": [],
   "source": [
    "my_csv = pd.read_csv('data_set_exmpl_csv_version.csv')  "
   ]
  },
  {
   "cell_type": "code",
   "execution_count": 40,
   "id": "c507414e",
   "metadata": {},
   "outputs": [
    {
     "name": "stdout",
     "output_type": "stream",
     "text": [
      "<class 'pandas.core.frame.DataFrame'>\n"
     ]
    }
   ],
   "source": [
    "print(type(my_csv))"
   ]
  },
  {
   "cell_type": "code",
   "execution_count": 41,
   "id": "9b58320f",
   "metadata": {
    "scrolled": true
   },
   "outputs": [
    {
     "data": {
      "text/html": [
       "<div>\n",
       "<style scoped>\n",
       "    .dataframe tbody tr th:only-of-type {\n",
       "        vertical-align: middle;\n",
       "    }\n",
       "\n",
       "    .dataframe tbody tr th {\n",
       "        vertical-align: top;\n",
       "    }\n",
       "\n",
       "    .dataframe thead th {\n",
       "        text-align: right;\n",
       "    }\n",
       "</style>\n",
       "<table border=\"1\" class=\"dataframe\">\n",
       "  <thead>\n",
       "    <tr style=\"text-align: right;\">\n",
       "      <th></th>\n",
       "      <th>Name</th>\n",
       "      <th>Age</th>\n",
       "      <th>major</th>\n",
       "    </tr>\n",
       "  </thead>\n",
       "  <tbody>\n",
       "    <tr>\n",
       "      <th>0</th>\n",
       "      <td>Itay</td>\n",
       "      <td>25</td>\n",
       "      <td>Computer Science</td>\n",
       "    </tr>\n",
       "    <tr>\n",
       "      <th>1</th>\n",
       "      <td>Tal</td>\n",
       "      <td>22</td>\n",
       "      <td>Philosophy</td>\n",
       "    </tr>\n",
       "    <tr>\n",
       "      <th>2</th>\n",
       "      <td>Aharon</td>\n",
       "      <td>19</td>\n",
       "      <td>Computer Science</td>\n",
       "    </tr>\n",
       "    <tr>\n",
       "      <th>3</th>\n",
       "      <td>Lev</td>\n",
       "      <td>26</td>\n",
       "      <td>Architecture</td>\n",
       "    </tr>\n",
       "    <tr>\n",
       "      <th>4</th>\n",
       "      <td>Noam</td>\n",
       "      <td>30</td>\n",
       "      <td>Architecture</td>\n",
       "    </tr>\n",
       "    <tr>\n",
       "      <th>5</th>\n",
       "      <td>Shir</td>\n",
       "      <td>18</td>\n",
       "      <td>Philosophy</td>\n",
       "    </tr>\n",
       "  </tbody>\n",
       "</table>\n",
       "</div>"
      ],
      "text/plain": [
       "     Name  Age             major\n",
       "0    Itay   25  Computer Science\n",
       "1     Tal   22        Philosophy\n",
       "2  Aharon   19  Computer Science\n",
       "3     Lev   26      Architecture\n",
       "4    Noam   30      Architecture\n",
       "5    Shir   18        Philosophy"
      ]
     },
     "execution_count": 41,
     "metadata": {},
     "output_type": "execute_result"
    }
   ],
   "source": [
    "my_csv"
   ]
  }
 ],
 "metadata": {
  "kernelspec": {
   "display_name": "Python 3 (ipykernel)",
   "language": "python",
   "name": "python3"
  },
  "language_info": {
   "codemirror_mode": {
    "name": "ipython",
    "version": 3
   },
   "file_extension": ".py",
   "mimetype": "text/x-python",
   "name": "python",
   "nbconvert_exporter": "python",
   "pygments_lexer": "ipython3",
   "version": "3.9.13"
  }
 },
 "nbformat": 4,
 "nbformat_minor": 5
}
