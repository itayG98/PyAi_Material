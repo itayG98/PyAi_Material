{
 "cells": [
  {
   "cell_type": "markdown",
   "id": "0985943c",
   "metadata": {},
   "source": [
    "# <span style=\"color:black\">Imports of libraries</span>"
   ]
  },
  {
   "cell_type": "code",
   "execution_count": 1,
   "id": "5fa95c0d",
   "metadata": {},
   "outputs": [],
   "source": [
    "import pandas as pd\n",
    "import numpy as np"
   ]
  },
  {
   "cell_type": "markdown",
   "id": "2fe10572",
   "metadata": {
    "scrolled": true
   },
   "source": [
    "# <span style=\"color:black\">Creation fo series</span>"
   ]
  },
  {
   "cell_type": "code",
   "execution_count": null,
   "id": "0c6477e8",
   "metadata": {},
   "outputs": [],
   "source": [
    "s1 = pd.Series([1, 2, 3], index=['A', 'B', 'C'])\n",
    "s2 = pd.Series([10, 20, 30], index=['A', 'B', 'D'])\n",
    "print (f\"s1 is : \\n{s1}\\n\")\n",
    "print (f\"s2 is : \\n{s2}\\n\")"
   ]
  },
  {
   "cell_type": "markdown",
   "id": "8fb8e961",
   "metadata": {},
   "source": [
    "# + Operator"
   ]
  },
  {
   "cell_type": "code",
   "execution_count": 34,
   "id": "29fd1f44",
   "metadata": {},
   "outputs": [],
   "source": [
    "result = s1 + s2"
   ]
  },
  {
   "cell_type": "code",
   "execution_count": 35,
   "id": "91919440",
   "metadata": {
    "scrolled": true
   },
   "outputs": [
    {
     "data": {
      "text/plain": [
       "A      NaN\n",
       "B    131.0\n",
       "C    102.0\n",
       "D    135.0\n",
       "E      NaN\n",
       "F      NaN\n",
       "S      NaN\n",
       "dtype: float64"
      ]
     },
     "execution_count": 35,
     "metadata": {},
     "output_type": "execute_result"
    }
   ],
   "source": [
    "result"
   ]
  },
  {
   "cell_type": "markdown",
   "id": "0d160ea4",
   "metadata": {},
   "source": [
    "# <span style=\"color:black\">From dictionary</span>"
   ]
  },
  {
   "cell_type": "code",
   "execution_count": 36,
   "id": "7c2b9d33",
   "metadata": {},
   "outputs": [
    {
     "name": "stdout",
     "output_type": "stream",
     "text": [
      "avi     054432\n",
      "shon    054367\n",
      "ron     055467\n",
      "dtype: object\n"
     ]
    }
   ],
   "source": [
    "s3 = pd.Series({'avi' : '054432','shon' : '054367' , 'ron' : \"055467\"})\n",
    "print(s3)\n",
    "people = pd.DataFrame(s3)"
   ]
  },
  {
   "cell_type": "code",
   "execution_count": 37,
   "id": "a0118d84",
   "metadata": {},
   "outputs": [
    {
     "data": {
      "text/html": [
       "<div>\n",
       "<style scoped>\n",
       "    .dataframe tbody tr th:only-of-type {\n",
       "        vertical-align: middle;\n",
       "    }\n",
       "\n",
       "    .dataframe tbody tr th {\n",
       "        vertical-align: top;\n",
       "    }\n",
       "\n",
       "    .dataframe thead th {\n",
       "        text-align: right;\n",
       "    }\n",
       "</style>\n",
       "<table border=\"1\" class=\"dataframe\">\n",
       "  <thead>\n",
       "    <tr style=\"text-align: right;\">\n",
       "      <th></th>\n",
       "      <th>0</th>\n",
       "    </tr>\n",
       "  </thead>\n",
       "  <tbody>\n",
       "    <tr>\n",
       "      <th>avi</th>\n",
       "      <td>054432</td>\n",
       "    </tr>\n",
       "    <tr>\n",
       "      <th>shon</th>\n",
       "      <td>054367</td>\n",
       "    </tr>\n",
       "    <tr>\n",
       "      <th>ron</th>\n",
       "      <td>055467</td>\n",
       "    </tr>\n",
       "  </tbody>\n",
       "</table>\n",
       "</div>"
      ],
      "text/plain": [
       "           0\n",
       "avi   054432\n",
       "shon  054367\n",
       "ron   055467"
      ]
     },
     "execution_count": 37,
     "metadata": {},
     "output_type": "execute_result"
    }
   ],
   "source": [
    "people"
   ]
  },
  {
   "cell_type": "markdown",
   "id": "f15571f3",
   "metadata": {},
   "source": [
    "# From list and tuple"
   ]
  },
  {
   "cell_type": "code",
   "execution_count": 38,
   "id": "5319c2fd",
   "metadata": {},
   "outputs": [
    {
     "name": "stdout",
     "output_type": "stream",
     "text": [
      "avi     054432\n",
      "shon    054367\n",
      "ron     055467\n",
      "dtype: object\n"
     ]
    }
   ],
   "source": [
    "names = ['avi','shon' , 'ron']\n",
    "phone_num = ('054432','054367' ,\"055467\")\n",
    "s4 = pd.Series(phone_num , index = names)\n",
    "print(s4)\n",
    "people2 = pd.DataFrame(s4)"
   ]
  },
  {
   "cell_type": "code",
   "execution_count": 39,
   "id": "11d51988",
   "metadata": {},
   "outputs": [
    {
     "data": {
      "text/html": [
       "<div>\n",
       "<style scoped>\n",
       "    .dataframe tbody tr th:only-of-type {\n",
       "        vertical-align: middle;\n",
       "    }\n",
       "\n",
       "    .dataframe tbody tr th {\n",
       "        vertical-align: top;\n",
       "    }\n",
       "\n",
       "    .dataframe thead th {\n",
       "        text-align: right;\n",
       "    }\n",
       "</style>\n",
       "<table border=\"1\" class=\"dataframe\">\n",
       "  <thead>\n",
       "    <tr style=\"text-align: right;\">\n",
       "      <th></th>\n",
       "      <th>0</th>\n",
       "    </tr>\n",
       "  </thead>\n",
       "  <tbody>\n",
       "    <tr>\n",
       "      <th>avi</th>\n",
       "      <td>054432</td>\n",
       "    </tr>\n",
       "    <tr>\n",
       "      <th>shon</th>\n",
       "      <td>054367</td>\n",
       "    </tr>\n",
       "    <tr>\n",
       "      <th>ron</th>\n",
       "      <td>055467</td>\n",
       "    </tr>\n",
       "  </tbody>\n",
       "</table>\n",
       "</div>"
      ],
      "text/plain": [
       "           0\n",
       "avi   054432\n",
       "shon  054367\n",
       "ron   055467"
      ]
     },
     "execution_count": 39,
     "metadata": {},
     "output_type": "execute_result"
    }
   ],
   "source": [
    "people2"
   ]
  },
  {
   "cell_type": "markdown",
   "id": "30f5bc23",
   "metadata": {},
   "source": [
    "## From biger dict "
   ]
  },
  {
   "cell_type": "code",
   "execution_count": 41,
   "id": "2d1f39a3",
   "metadata": {},
   "outputs": [],
   "source": [
    "my_data = {'Country': ['Israel','US','Israel','Israel'] ,'City' : ['jerusalem','Washington', 'Tel Aviv','Ashdod'] ,'Count': [100,2000,120,50]}"
   ]
  },
  {
   "cell_type": "code",
   "execution_count": 42,
   "id": "0ed869a1",
   "metadata": {},
   "outputs": [],
   "source": [
    "my_df = pd.DataFrame(my_data)"
   ]
  },
  {
   "cell_type": "code",
   "execution_count": 43,
   "id": "17affa9b",
   "metadata": {},
   "outputs": [
    {
     "data": {
      "text/html": [
       "<div>\n",
       "<style scoped>\n",
       "    .dataframe tbody tr th:only-of-type {\n",
       "        vertical-align: middle;\n",
       "    }\n",
       "\n",
       "    .dataframe tbody tr th {\n",
       "        vertical-align: top;\n",
       "    }\n",
       "\n",
       "    .dataframe thead th {\n",
       "        text-align: right;\n",
       "    }\n",
       "</style>\n",
       "<table border=\"1\" class=\"dataframe\">\n",
       "  <thead>\n",
       "    <tr style=\"text-align: right;\">\n",
       "      <th></th>\n",
       "      <th>Country</th>\n",
       "      <th>City</th>\n",
       "      <th>Count</th>\n",
       "    </tr>\n",
       "  </thead>\n",
       "  <tbody>\n",
       "    <tr>\n",
       "      <th>0</th>\n",
       "      <td>Israel</td>\n",
       "      <td>jerusalem</td>\n",
       "      <td>100</td>\n",
       "    </tr>\n",
       "    <tr>\n",
       "      <th>1</th>\n",
       "      <td>US</td>\n",
       "      <td>Washington</td>\n",
       "      <td>2000</td>\n",
       "    </tr>\n",
       "    <tr>\n",
       "      <th>2</th>\n",
       "      <td>Israel</td>\n",
       "      <td>Tel Aviv</td>\n",
       "      <td>120</td>\n",
       "    </tr>\n",
       "    <tr>\n",
       "      <th>3</th>\n",
       "      <td>Israel</td>\n",
       "      <td>Ashdod</td>\n",
       "      <td>50</td>\n",
       "    </tr>\n",
       "  </tbody>\n",
       "</table>\n",
       "</div>"
      ],
      "text/plain": [
       "  Country        City  Count\n",
       "0  Israel   jerusalem    100\n",
       "1      US  Washington   2000\n",
       "2  Israel    Tel Aviv    120\n",
       "3  Israel      Ashdod     50"
      ]
     },
     "execution_count": 43,
     "metadata": {},
     "output_type": "execute_result"
    }
   ],
   "source": [
    "my_df"
   ]
  },
  {
   "cell_type": "markdown",
   "id": "5b5f6625",
   "metadata": {},
   "source": [
    "# '+' operator between 1-dim random arrays"
   ]
  },
  {
   "cell_type": "code",
   "execution_count": 11,
   "id": "fb44d048",
   "metadata": {},
   "outputs": [
    {
     "name": "stdout",
     "output_type": "stream",
     "text": [
      "[ 2 33 71 80 47]\n",
      "[ 65 100  55  97  98]\n",
      "A      NaN\n",
      "B    131.0\n",
      "C    102.0\n",
      "D    135.0\n",
      "E      NaN\n",
      "F      NaN\n",
      "S      NaN\n",
      "dtype: float64\n",
      "(7,)\n",
      "True\n"
     ]
    }
   ],
   "source": [
    "my_range = (1,101)\n",
    "my_size = (5)\n",
    "a  =  np.random.randint(my_range[0],my_range[1],size=my_size)\n",
    "b  = np.random.randint(my_range[0],my_range[1],size=my_size)\n",
    "\n",
    "print(a)\n",
    "print(b)\n",
    "\n",
    "s1 = pd.Series(data = a, index = ['C', 'B', 'A', 'D','S'])\n",
    "s2 = pd.Series(data = b, index=['F', 'C', 'D', 'E','B'])\n",
    "result = s1+s2\n",
    "print(result)\n",
    "print(result.shape)\n",
    "print(result.hasnans)"
   ]
  },
  {
   "cell_type": "code",
   "execution_count": 45,
   "id": "3f09d647",
   "metadata": {},
   "outputs": [],
   "source": [
    "my_range = (1,101)\n",
    "my_size = (3)\n",
    "a  =  np.random.randint(my_range[0],my_range[1],size=my_size)\n",
    "df = pd.DataFrame([list(a),list(a)], columns=list(range(my_size)) , index= list(range(my_size-1)))"
   ]
  },
  {
   "cell_type": "code",
   "execution_count": 13,
   "id": "6bd4ca1d",
   "metadata": {},
   "outputs": [
    {
     "data": {
      "text/html": [
       "<div>\n",
       "<style scoped>\n",
       "    .dataframe tbody tr th:only-of-type {\n",
       "        vertical-align: middle;\n",
       "    }\n",
       "\n",
       "    .dataframe tbody tr th {\n",
       "        vertical-align: top;\n",
       "    }\n",
       "\n",
       "    .dataframe thead th {\n",
       "        text-align: right;\n",
       "    }\n",
       "</style>\n",
       "<table border=\"1\" class=\"dataframe\">\n",
       "  <thead>\n",
       "    <tr style=\"text-align: right;\">\n",
       "      <th></th>\n",
       "      <th>0</th>\n",
       "      <th>1</th>\n",
       "      <th>2</th>\n",
       "    </tr>\n",
       "  </thead>\n",
       "  <tbody>\n",
       "    <tr>\n",
       "      <th>0</th>\n",
       "      <td>4</td>\n",
       "      <td>18</td>\n",
       "      <td>90</td>\n",
       "    </tr>\n",
       "    <tr>\n",
       "      <th>1</th>\n",
       "      <td>4</td>\n",
       "      <td>18</td>\n",
       "      <td>90</td>\n",
       "    </tr>\n",
       "  </tbody>\n",
       "</table>\n",
       "</div>"
      ],
      "text/plain": [
       "   0   1   2\n",
       "0  4  18  90\n",
       "1  4  18  90"
      ]
     },
     "execution_count": 13,
     "metadata": {},
     "output_type": "execute_result"
    }
   ],
   "source": [
    "df"
   ]
  },
  {
   "cell_type": "markdown",
   "id": "e3d33966",
   "metadata": {},
   "source": [
    "# Data frame from full dict"
   ]
  },
  {
   "cell_type": "code",
   "execution_count": 14,
   "id": "765fb3c2",
   "metadata": {},
   "outputs": [],
   "source": [
    "Employees = {\n",
    "    'ID' : [12,22,32,24],\n",
    "    'Name' : ['avi','shon' , 'ron','Yoni'] ,\n",
    "    'Age' : [22,24,18,19],\n",
    "    'City' : ['ashdod','ashdod','ashdod','ashdod']\n",
    "}\n",
    "emp_df = pd.DataFrame(Employees)"
   ]
  },
  {
   "cell_type": "code",
   "execution_count": 15,
   "id": "d6eb2bb8",
   "metadata": {},
   "outputs": [
    {
     "data": {
      "text/html": [
       "<div>\n",
       "<style scoped>\n",
       "    .dataframe tbody tr th:only-of-type {\n",
       "        vertical-align: middle;\n",
       "    }\n",
       "\n",
       "    .dataframe tbody tr th {\n",
       "        vertical-align: top;\n",
       "    }\n",
       "\n",
       "    .dataframe thead th {\n",
       "        text-align: right;\n",
       "    }\n",
       "</style>\n",
       "<table border=\"1\" class=\"dataframe\">\n",
       "  <thead>\n",
       "    <tr style=\"text-align: right;\">\n",
       "      <th></th>\n",
       "      <th>ID</th>\n",
       "      <th>Name</th>\n",
       "      <th>Age</th>\n",
       "      <th>City</th>\n",
       "    </tr>\n",
       "  </thead>\n",
       "  <tbody>\n",
       "    <tr>\n",
       "      <th>0</th>\n",
       "      <td>12</td>\n",
       "      <td>avi</td>\n",
       "      <td>22</td>\n",
       "      <td>ashdod</td>\n",
       "    </tr>\n",
       "    <tr>\n",
       "      <th>1</th>\n",
       "      <td>22</td>\n",
       "      <td>shon</td>\n",
       "      <td>24</td>\n",
       "      <td>ashdod</td>\n",
       "    </tr>\n",
       "    <tr>\n",
       "      <th>2</th>\n",
       "      <td>32</td>\n",
       "      <td>ron</td>\n",
       "      <td>18</td>\n",
       "      <td>ashdod</td>\n",
       "    </tr>\n",
       "    <tr>\n",
       "      <th>3</th>\n",
       "      <td>24</td>\n",
       "      <td>Yoni</td>\n",
       "      <td>19</td>\n",
       "      <td>ashdod</td>\n",
       "    </tr>\n",
       "  </tbody>\n",
       "</table>\n",
       "</div>"
      ],
      "text/plain": [
       "   ID  Name  Age    City\n",
       "0  12   avi   22  ashdod\n",
       "1  22  shon   24  ashdod\n",
       "2  32   ron   18  ashdod\n",
       "3  24  Yoni   19  ashdod"
      ]
     },
     "execution_count": 15,
     "metadata": {},
     "output_type": "execute_result"
    }
   ],
   "source": [
    "emp_df"
   ]
  },
  {
   "cell_type": "code",
   "execution_count": 16,
   "id": "651d5ff3",
   "metadata": {},
   "outputs": [],
   "source": [
    "emp_df_indexed = pd.DataFrame(Employees, index=Employees['ID'])"
   ]
  },
  {
   "cell_type": "code",
   "execution_count": 17,
   "id": "f710f6c9",
   "metadata": {},
   "outputs": [
    {
     "data": {
      "text/html": [
       "<div>\n",
       "<style scoped>\n",
       "    .dataframe tbody tr th:only-of-type {\n",
       "        vertical-align: middle;\n",
       "    }\n",
       "\n",
       "    .dataframe tbody tr th {\n",
       "        vertical-align: top;\n",
       "    }\n",
       "\n",
       "    .dataframe thead th {\n",
       "        text-align: right;\n",
       "    }\n",
       "</style>\n",
       "<table border=\"1\" class=\"dataframe\">\n",
       "  <thead>\n",
       "    <tr style=\"text-align: right;\">\n",
       "      <th></th>\n",
       "      <th>ID</th>\n",
       "      <th>Name</th>\n",
       "      <th>Age</th>\n",
       "      <th>City</th>\n",
       "    </tr>\n",
       "  </thead>\n",
       "  <tbody>\n",
       "    <tr>\n",
       "      <th>12</th>\n",
       "      <td>12</td>\n",
       "      <td>avi</td>\n",
       "      <td>22</td>\n",
       "      <td>ashdod</td>\n",
       "    </tr>\n",
       "    <tr>\n",
       "      <th>22</th>\n",
       "      <td>22</td>\n",
       "      <td>shon</td>\n",
       "      <td>24</td>\n",
       "      <td>ashdod</td>\n",
       "    </tr>\n",
       "    <tr>\n",
       "      <th>32</th>\n",
       "      <td>32</td>\n",
       "      <td>ron</td>\n",
       "      <td>18</td>\n",
       "      <td>ashdod</td>\n",
       "    </tr>\n",
       "    <tr>\n",
       "      <th>24</th>\n",
       "      <td>24</td>\n",
       "      <td>Yoni</td>\n",
       "      <td>19</td>\n",
       "      <td>ashdod</td>\n",
       "    </tr>\n",
       "  </tbody>\n",
       "</table>\n",
       "</div>"
      ],
      "text/plain": [
       "    ID  Name  Age    City\n",
       "12  12   avi   22  ashdod\n",
       "22  22  shon   24  ashdod\n",
       "32  32   ron   18  ashdod\n",
       "24  24  Yoni   19  ashdod"
      ]
     },
     "execution_count": 17,
     "metadata": {},
     "output_type": "execute_result"
    }
   ],
   "source": [
    "emp_df_indexed"
   ]
  },
  {
   "cell_type": "code",
   "execution_count": 18,
   "id": "b334945a",
   "metadata": {},
   "outputs": [
    {
     "name": "stdout",
     "output_type": "stream",
     "text": [
      "Empty DataFrame\n",
      "Columns: []\n",
      "Index: []\n"
     ]
    }
   ],
   "source": [
    "df = pd.DataFrame()\n",
    "print(df)"
   ]
  },
  {
   "cell_type": "code",
   "execution_count": 19,
   "id": "2d05caaf",
   "metadata": {},
   "outputs": [
    {
     "name": "stdout",
     "output_type": "stream",
     "text": [
      "Empty DataFrame\n",
      "Columns: [ID, Name, Age, City]\n",
      "Index: []\n"
     ]
    }
   ],
   "source": [
    "df = pd.DataFrame(columns = [k for k in Employees])\n",
    "new_emp1 ={ 'ID' : 1,'Name' : 'Aharon' ,'Age' : 19,'City' : 'ashdod'}\n",
    "new_emp2 ={ 'ID' : 2,'Name' : 'Aharona' ,'Age' : 10,'City' : 'ashdod'}\n",
    "new_emp3 ={ 'ID' : 3,'Name' : 'ron' ,'Age' : 24,'City' : 'ashdod'}\n",
    "emps = [new_emp1,new_emp2,new_emp3]\n",
    "print(df)\n",
    "for i in range(len(emps)):\n",
    "    df.loc[i] = [ val for val in emps[i].values()]"
   ]
  },
  {
   "cell_type": "code",
   "execution_count": 20,
   "id": "dc820dda",
   "metadata": {},
   "outputs": [
    {
     "data": {
      "text/html": [
       "<div>\n",
       "<style scoped>\n",
       "    .dataframe tbody tr th:only-of-type {\n",
       "        vertical-align: middle;\n",
       "    }\n",
       "\n",
       "    .dataframe tbody tr th {\n",
       "        vertical-align: top;\n",
       "    }\n",
       "\n",
       "    .dataframe thead th {\n",
       "        text-align: right;\n",
       "    }\n",
       "</style>\n",
       "<table border=\"1\" class=\"dataframe\">\n",
       "  <thead>\n",
       "    <tr style=\"text-align: right;\">\n",
       "      <th></th>\n",
       "      <th>ID</th>\n",
       "      <th>Name</th>\n",
       "      <th>Age</th>\n",
       "      <th>City</th>\n",
       "    </tr>\n",
       "  </thead>\n",
       "  <tbody>\n",
       "    <tr>\n",
       "      <th>0</th>\n",
       "      <td>1</td>\n",
       "      <td>Aharon</td>\n",
       "      <td>19</td>\n",
       "      <td>ashdod</td>\n",
       "    </tr>\n",
       "    <tr>\n",
       "      <th>1</th>\n",
       "      <td>2</td>\n",
       "      <td>Aharona</td>\n",
       "      <td>10</td>\n",
       "      <td>ashdod</td>\n",
       "    </tr>\n",
       "    <tr>\n",
       "      <th>2</th>\n",
       "      <td>3</td>\n",
       "      <td>ron</td>\n",
       "      <td>24</td>\n",
       "      <td>ashdod</td>\n",
       "    </tr>\n",
       "  </tbody>\n",
       "</table>\n",
       "</div>"
      ],
      "text/plain": [
       "   ID     Name  Age    City\n",
       "0   1   Aharon   19  ashdod\n",
       "1   2  Aharona   10  ashdod\n",
       "2   3      ron   24  ashdod"
      ]
     },
     "execution_count": 20,
     "metadata": {},
     "output_type": "execute_result"
    }
   ],
   "source": [
    "df"
   ]
  },
  {
   "cell_type": "code",
   "execution_count": 21,
   "id": "f96e2877",
   "metadata": {},
   "outputs": [
    {
     "name": "stdout",
     "output_type": "stream",
     "text": [
      "<class 'pandas.core.series.Series'>\n"
     ]
    }
   ],
   "source": [
    "test_age =18\n",
    "res = df['Age']>test_age\n",
    "print(type(res))"
   ]
  },
  {
   "cell_type": "code",
   "execution_count": 22,
   "id": "9f818410",
   "metadata": {},
   "outputs": [
    {
     "data": {
      "text/plain": [
       "0     True\n",
       "1    False\n",
       "2     True\n",
       "Name: Age, dtype: bool"
      ]
     },
     "execution_count": 22,
     "metadata": {},
     "output_type": "execute_result"
    }
   ],
   "source": [
    "res"
   ]
  },
  {
   "cell_type": "code",
   "execution_count": 23,
   "id": "3e1919c1",
   "metadata": {},
   "outputs": [
    {
     "name": "stdout",
     "output_type": "stream",
     "text": [
      "   ID    Name  Age    City\n",
      "0   1  Aharon   19  ashdod\n",
      "2   3     ron   24  ashdod\n"
     ]
    }
   ],
   "source": [
    "print(df[res])"
   ]
  },
  {
   "cell_type": "code",
   "execution_count": 24,
   "id": "a6c15b55",
   "metadata": {},
   "outputs": [],
   "source": [
    "df['Code'] = df['Name']+df['City']"
   ]
  },
  {
   "cell_type": "code",
   "execution_count": 25,
   "id": "8aec504c",
   "metadata": {},
   "outputs": [
    {
     "data": {
      "text/html": [
       "<div>\n",
       "<style scoped>\n",
       "    .dataframe tbody tr th:only-of-type {\n",
       "        vertical-align: middle;\n",
       "    }\n",
       "\n",
       "    .dataframe tbody tr th {\n",
       "        vertical-align: top;\n",
       "    }\n",
       "\n",
       "    .dataframe thead th {\n",
       "        text-align: right;\n",
       "    }\n",
       "</style>\n",
       "<table border=\"1\" class=\"dataframe\">\n",
       "  <thead>\n",
       "    <tr style=\"text-align: right;\">\n",
       "      <th></th>\n",
       "      <th>ID</th>\n",
       "      <th>Name</th>\n",
       "      <th>Age</th>\n",
       "      <th>City</th>\n",
       "      <th>Code</th>\n",
       "    </tr>\n",
       "  </thead>\n",
       "  <tbody>\n",
       "    <tr>\n",
       "      <th>0</th>\n",
       "      <td>1</td>\n",
       "      <td>Aharon</td>\n",
       "      <td>19</td>\n",
       "      <td>ashdod</td>\n",
       "      <td>Aharonashdod</td>\n",
       "    </tr>\n",
       "    <tr>\n",
       "      <th>1</th>\n",
       "      <td>2</td>\n",
       "      <td>Aharona</td>\n",
       "      <td>10</td>\n",
       "      <td>ashdod</td>\n",
       "      <td>Aharonaashdod</td>\n",
       "    </tr>\n",
       "    <tr>\n",
       "      <th>2</th>\n",
       "      <td>3</td>\n",
       "      <td>ron</td>\n",
       "      <td>24</td>\n",
       "      <td>ashdod</td>\n",
       "      <td>ronashdod</td>\n",
       "    </tr>\n",
       "  </tbody>\n",
       "</table>\n",
       "</div>"
      ],
      "text/plain": [
       "   ID     Name  Age    City           Code\n",
       "0   1   Aharon   19  ashdod   Aharonashdod\n",
       "1   2  Aharona   10  ashdod  Aharonaashdod\n",
       "2   3      ron   24  ashdod      ronashdod"
      ]
     },
     "execution_count": 25,
     "metadata": {},
     "output_type": "execute_result"
    }
   ],
   "source": [
    "df"
   ]
  },
  {
   "cell_type": "markdown",
   "id": "4fe8e3b7",
   "metadata": {},
   "source": [
    "# drop the id==0 row"
   ]
  },
  {
   "cell_type": "code",
   "execution_count": 26,
   "id": "cd005f6e",
   "metadata": {},
   "outputs": [],
   "source": [
    "df.drop(0 ,axis=0 , inplace=True)"
   ]
  },
  {
   "cell_type": "code",
   "execution_count": 27,
   "id": "c3bce073",
   "metadata": {},
   "outputs": [
    {
     "data": {
      "text/html": [
       "<div>\n",
       "<style scoped>\n",
       "    .dataframe tbody tr th:only-of-type {\n",
       "        vertical-align: middle;\n",
       "    }\n",
       "\n",
       "    .dataframe tbody tr th {\n",
       "        vertical-align: top;\n",
       "    }\n",
       "\n",
       "    .dataframe thead th {\n",
       "        text-align: right;\n",
       "    }\n",
       "</style>\n",
       "<table border=\"1\" class=\"dataframe\">\n",
       "  <thead>\n",
       "    <tr style=\"text-align: right;\">\n",
       "      <th></th>\n",
       "      <th>ID</th>\n",
       "      <th>Name</th>\n",
       "      <th>Age</th>\n",
       "      <th>City</th>\n",
       "      <th>Code</th>\n",
       "    </tr>\n",
       "  </thead>\n",
       "  <tbody>\n",
       "    <tr>\n",
       "      <th>1</th>\n",
       "      <td>2</td>\n",
       "      <td>Aharona</td>\n",
       "      <td>10</td>\n",
       "      <td>ashdod</td>\n",
       "      <td>Aharonaashdod</td>\n",
       "    </tr>\n",
       "    <tr>\n",
       "      <th>2</th>\n",
       "      <td>3</td>\n",
       "      <td>ron</td>\n",
       "      <td>24</td>\n",
       "      <td>ashdod</td>\n",
       "      <td>ronashdod</td>\n",
       "    </tr>\n",
       "  </tbody>\n",
       "</table>\n",
       "</div>"
      ],
      "text/plain": [
       "   ID     Name  Age    City           Code\n",
       "1   2  Aharona   10  ashdod  Aharonaashdod\n",
       "2   3      ron   24  ashdod      ronashdod"
      ]
     },
     "execution_count": 27,
     "metadata": {},
     "output_type": "execute_result"
    }
   ],
   "source": [
    "df"
   ]
  },
  {
   "cell_type": "markdown",
   "id": "b29e857b",
   "metadata": {},
   "source": [
    "# drop the 'Code'==0 column"
   ]
  },
  {
   "cell_type": "code",
   "execution_count": 28,
   "id": "2ac87308",
   "metadata": {},
   "outputs": [],
   "source": [
    "df.drop('Code' ,axis='columns' , inplace=True)"
   ]
  },
  {
   "cell_type": "code",
   "execution_count": 29,
   "id": "8da8b9d0",
   "metadata": {},
   "outputs": [
    {
     "data": {
      "text/html": [
       "<div>\n",
       "<style scoped>\n",
       "    .dataframe tbody tr th:only-of-type {\n",
       "        vertical-align: middle;\n",
       "    }\n",
       "\n",
       "    .dataframe tbody tr th {\n",
       "        vertical-align: top;\n",
       "    }\n",
       "\n",
       "    .dataframe thead th {\n",
       "        text-align: right;\n",
       "    }\n",
       "</style>\n",
       "<table border=\"1\" class=\"dataframe\">\n",
       "  <thead>\n",
       "    <tr style=\"text-align: right;\">\n",
       "      <th></th>\n",
       "      <th>ID</th>\n",
       "      <th>Name</th>\n",
       "      <th>Age</th>\n",
       "      <th>City</th>\n",
       "    </tr>\n",
       "  </thead>\n",
       "  <tbody>\n",
       "    <tr>\n",
       "      <th>1</th>\n",
       "      <td>2</td>\n",
       "      <td>Aharona</td>\n",
       "      <td>10</td>\n",
       "      <td>ashdod</td>\n",
       "    </tr>\n",
       "    <tr>\n",
       "      <th>2</th>\n",
       "      <td>3</td>\n",
       "      <td>ron</td>\n",
       "      <td>24</td>\n",
       "      <td>ashdod</td>\n",
       "    </tr>\n",
       "  </tbody>\n",
       "</table>\n",
       "</div>"
      ],
      "text/plain": [
       "   ID     Name  Age    City\n",
       "1   2  Aharona   10  ashdod\n",
       "2   3      ron   24  ashdod"
      ]
     },
     "execution_count": 29,
     "metadata": {},
     "output_type": "execute_result"
    }
   ],
   "source": [
    "df"
   ]
  },
  {
   "cell_type": "code",
   "execution_count": 30,
   "id": "49985830",
   "metadata": {},
   "outputs": [],
   "source": [
    "def birthday( age : int) :\n",
    "    print ('Happy birtday')\n",
    "    return age+1"
   ]
  },
  {
   "cell_type": "code",
   "execution_count": 31,
   "id": "660ac64c",
   "metadata": {},
   "outputs": [
    {
     "name": "stdout",
     "output_type": "stream",
     "text": [
      "Happy birtday\n",
      "Happy birtday\n"
     ]
    },
    {
     "data": {
      "text/plain": [
       "True"
      ]
     },
     "execution_count": 31,
     "metadata": {},
     "output_type": "execute_result"
    }
   ],
   "source": [
    "df['Age'].apply(lambda x : x+1).equals(df['Age'].apply(birthday))"
   ]
  },
  {
   "cell_type": "code",
   "execution_count": 32,
   "id": "fd5845a0",
   "metadata": {},
   "outputs": [
    {
     "name": "stdout",
     "output_type": "stream",
     "text": [
      "Happy birtday\n",
      "Happy birtday\n"
     ]
    }
   ],
   "source": [
    "df['Age'] = df['Age'].apply(birthday)"
   ]
  },
  {
   "cell_type": "code",
   "execution_count": 33,
   "id": "45421ecd",
   "metadata": {},
   "outputs": [
    {
     "data": {
      "text/html": [
       "<div>\n",
       "<style scoped>\n",
       "    .dataframe tbody tr th:only-of-type {\n",
       "        vertical-align: middle;\n",
       "    }\n",
       "\n",
       "    .dataframe tbody tr th {\n",
       "        vertical-align: top;\n",
       "    }\n",
       "\n",
       "    .dataframe thead th {\n",
       "        text-align: right;\n",
       "    }\n",
       "</style>\n",
       "<table border=\"1\" class=\"dataframe\">\n",
       "  <thead>\n",
       "    <tr style=\"text-align: right;\">\n",
       "      <th></th>\n",
       "      <th>ID</th>\n",
       "      <th>Name</th>\n",
       "      <th>Age</th>\n",
       "      <th>City</th>\n",
       "    </tr>\n",
       "  </thead>\n",
       "  <tbody>\n",
       "    <tr>\n",
       "      <th>1</th>\n",
       "      <td>2</td>\n",
       "      <td>Aharona</td>\n",
       "      <td>11</td>\n",
       "      <td>ashdod</td>\n",
       "    </tr>\n",
       "    <tr>\n",
       "      <th>2</th>\n",
       "      <td>3</td>\n",
       "      <td>ron</td>\n",
       "      <td>25</td>\n",
       "      <td>ashdod</td>\n",
       "    </tr>\n",
       "  </tbody>\n",
       "</table>\n",
       "</div>"
      ],
      "text/plain": [
       "   ID     Name  Age    City\n",
       "1   2  Aharona   11  ashdod\n",
       "2   3      ron   25  ashdod"
      ]
     },
     "execution_count": 33,
     "metadata": {},
     "output_type": "execute_result"
    }
   ],
   "source": [
    "df"
   ]
  },
  {
   "cell_type": "code",
   "execution_count": null,
   "id": "8cf439d0",
   "metadata": {},
   "outputs": [],
   "source": []
  }
 ],
 "metadata": {
  "kernelspec": {
   "display_name": "Python 3 (ipykernel)",
   "language": "python",
   "name": "python3"
  },
  "language_info": {
   "codemirror_mode": {
    "name": "ipython",
    "version": 3
   },
   "file_extension": ".py",
   "mimetype": "text/x-python",
   "name": "python",
   "nbconvert_exporter": "python",
   "pygments_lexer": "ipython3",
   "version": "3.9.13"
  }
 },
 "nbformat": 4,
 "nbformat_minor": 5
}
