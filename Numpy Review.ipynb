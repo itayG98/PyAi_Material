{
 "cells": [
  {
   "cell_type": "markdown",
   "id": "e8d64e29",
   "metadata": {},
   "source": [
    "# Installation and import"
   ]
  },
  {
   "cell_type": "code",
   "execution_count": 1,
   "id": "59f704f2",
   "metadata": {},
   "outputs": [],
   "source": [
    "#! pip install numpy"
   ]
  },
  {
   "cell_type": "code",
   "execution_count": 2,
   "id": "b8996010",
   "metadata": {},
   "outputs": [],
   "source": [
    "import numpy as np"
   ]
  },
  {
   "cell_type": "markdown",
   "id": "f60e2d74",
   "metadata": {},
   "source": [
    "# Review"
   ]
  },
  {
   "cell_type": "markdown",
   "id": "a90889e4",
   "metadata": {},
   "source": [
    "## Creation"
   ]
  },
  {
   "cell_type": "code",
   "execution_count": 3,
   "id": "04b2eb76",
   "metadata": {},
   "outputs": [],
   "source": [
    "lst1 = [1,2,3,4,5,6]\n",
    "arr1 = np.array(lst1)\n",
    "arr2 = np.array((2,2,5,6,7,8),dtype='float')"
   ]
  },
  {
   "cell_type": "code",
   "execution_count": 4,
   "id": "caf1f564",
   "metadata": {},
   "outputs": [
    {
     "name": "stdout",
     "output_type": "stream",
     "text": [
      "[1 2 3 4 5 6]\n",
      "<class 'numpy.ndarray'>\n",
      "float64\n"
     ]
    }
   ],
   "source": [
    "print(arr1)\n",
    "print(type(arr2))\n",
    "print(arr2.dtype)"
   ]
  },
  {
   "cell_type": "markdown",
   "id": "edbf8281",
   "metadata": {},
   "source": [
    "## Dont use np.array(list(range(str,stp,step))"
   ]
  },
  {
   "cell_type": "code",
   "execution_count": 5,
   "id": "1a4bde2a",
   "metadata": {},
   "outputs": [
    {
     "name": "stdout",
     "output_type": "stream",
     "text": [
      "Wall time: 2.14 s\n"
     ]
    },
    {
     "data": {
      "text/plain": [
       "array([       1,        4,        7, ..., 99999991, 99999994, 99999997])"
      ]
     },
     "execution_count": 5,
     "metadata": {},
     "output_type": "execute_result"
    }
   ],
   "source": [
    "%%time\n",
    "np.array((range(1,100000000,3)))"
   ]
  },
  {
   "cell_type": "code",
   "execution_count": 6,
   "id": "f84d9c53",
   "metadata": {},
   "outputs": [
    {
     "name": "stdout",
     "output_type": "stream",
     "text": [
      "Wall time: 33 ms\n"
     ]
    },
    {
     "data": {
      "text/plain": [
       "array([       0,        3,        6, ..., 99999993, 99999996, 99999999])"
      ]
     },
     "execution_count": 6,
     "metadata": {},
     "output_type": "execute_result"
    }
   ],
   "source": [
    "%%time\n",
    "np.arange(start=0,stop=100000000,step =3)"
   ]
  },
  {
   "cell_type": "markdown",
   "id": "ffbdbaaf",
   "metadata": {},
   "source": [
    "## Reshaping"
   ]
  },
  {
   "cell_type": "code",
   "execution_count": 7,
   "id": "38e40f8e",
   "metadata": {},
   "outputs": [
    {
     "data": {
      "text/plain": [
       "array([[1, 2, 3],\n",
       "       [4, 5, 6]])"
      ]
     },
     "execution_count": 7,
     "metadata": {},
     "output_type": "execute_result"
    }
   ],
   "source": [
    "arr1.reshape(2,3)"
   ]
  },
  {
   "cell_type": "code",
   "execution_count": 8,
   "id": "01f03fe5",
   "metadata": {},
   "outputs": [],
   "source": [
    "arr2 = np.array([lst1,lst1])"
   ]
  },
  {
   "cell_type": "markdown",
   "id": "ea9fc137",
   "metadata": {},
   "source": [
    "# More Creation"
   ]
  },
  {
   "cell_type": "code",
   "execution_count": 9,
   "id": "2a43e5e6",
   "metadata": {},
   "outputs": [
    {
     "data": {
      "text/plain": [
       "array([ 1.        ,  1.69230769,  2.38461538,  3.07692308,  3.76923077,\n",
       "        4.46153846,  5.15384615,  5.84615385,  6.53846154,  7.23076923,\n",
       "        7.92307692,  8.61538462,  9.30769231, 10.        ])"
      ]
     },
     "execution_count": 9,
     "metadata": {},
     "output_type": "execute_result"
    }
   ],
   "source": [
    "np.linspace(1,10,14)"
   ]
  },
  {
   "cell_type": "code",
   "execution_count": 10,
   "id": "50811e8f",
   "metadata": {},
   "outputs": [
    {
     "data": {
      "text/plain": [
       "array([1., 1., 1., 1., 1., 1., 1., 1., 1., 1.])"
      ]
     },
     "execution_count": 10,
     "metadata": {},
     "output_type": "execute_result"
    }
   ],
   "source": [
    "np.linspace(1,1,10)"
   ]
  },
  {
   "cell_type": "code",
   "execution_count": 11,
   "id": "1dbfa495",
   "metadata": {},
   "outputs": [
    {
     "data": {
      "text/plain": [
       "array([1, 1, 1, 1, 1, 1, 1, 1, 1, 1], dtype=int8)"
      ]
     },
     "execution_count": 11,
     "metadata": {},
     "output_type": "execute_result"
    }
   ],
   "source": [
    "np.linspace(start=1,stop=1,num = 10 , dtype='int8')"
   ]
  },
  {
   "cell_type": "code",
   "execution_count": 12,
   "id": "9c109143",
   "metadata": {},
   "outputs": [
    {
     "data": {
      "text/plain": [
       "array([[[[1., 1.],\n",
       "         [1., 1.]],\n",
       "\n",
       "        [[1., 1.],\n",
       "         [1., 1.]]],\n",
       "\n",
       "\n",
       "       [[[1., 1.],\n",
       "         [1., 1.]],\n",
       "\n",
       "        [[1., 1.],\n",
       "         [1., 1.]]]])"
      ]
     },
     "execution_count": 12,
     "metadata": {},
     "output_type": "execute_result"
    }
   ],
   "source": [
    "np.ones((2,2,2,2))"
   ]
  },
  {
   "cell_type": "code",
   "execution_count": 13,
   "id": "24d99553",
   "metadata": {},
   "outputs": [
    {
     "data": {
      "text/plain": [
       "array([[0., 0., 0.],\n",
       "       [0., 0., 0.],\n",
       "       [0., 0., 0.]])"
      ]
     },
     "execution_count": 13,
     "metadata": {},
     "output_type": "execute_result"
    }
   ],
   "source": [
    "np.zeros((3,3))"
   ]
  },
  {
   "cell_type": "markdown",
   "id": "fd2c3191",
   "metadata": {},
   "source": [
    "## Random"
   ]
  },
  {
   "cell_type": "code",
   "execution_count": 14,
   "id": "74500f40",
   "metadata": {},
   "outputs": [
    {
     "data": {
      "text/plain": [
       "array([[[0.32772613, 0.57686449],\n",
       "        [0.51185033, 0.91109355]],\n",
       "\n",
       "       [[0.81046864, 0.50600019],\n",
       "        [0.33311405, 0.45464354]]])"
      ]
     },
     "execution_count": 14,
     "metadata": {},
     "output_type": "execute_result"
    }
   ],
   "source": [
    "#set dimantion\n",
    "#values between 0-1\n",
    "np.random.rand(2,2,2)"
   ]
  },
  {
   "cell_type": "code",
   "execution_count": 15,
   "id": "559a5158",
   "metadata": {},
   "outputs": [
    {
     "data": {
      "text/plain": [
       "array([[[9, 6, 6],\n",
       "        [4, 6, 3],\n",
       "        [9, 4, 9]],\n",
       "\n",
       "       [[5, 0, 3],\n",
       "        [7, 7, 1],\n",
       "        [9, 3, 0]]], dtype=int8)"
      ]
     },
     "execution_count": 15,
     "metadata": {},
     "output_type": "execute_result"
    }
   ],
   "source": [
    "np.random.randint(0,10,size=(2,3,3) , dtype='int8')"
   ]
  },
  {
   "cell_type": "markdown",
   "id": "ba8195ae",
   "metadata": {},
   "source": [
    "# Attributes"
   ]
  },
  {
   "cell_type": "code",
   "execution_count": 16,
   "id": "ddb11cd2",
   "metadata": {},
   "outputs": [
    {
     "name": "stdout",
     "output_type": "stream",
     "text": [
      "int8\n",
      "3\n",
      "(4, 4, 4)\n",
      "1\n",
      "(16, 4, 1)\n",
      "<memory at 0x000001B3A5666220>\n"
     ]
    }
   ],
   "source": [
    "arr = np.random.randint(0,10,size=(4,4,4) , dtype='int8')\n",
    "print(arr.dtype)\n",
    "print(arr.ndim)\n",
    "print(arr.shape)\n",
    "print(arr.itemsize)\n",
    "print(arr.strides)\n",
    "print(arr.data)"
   ]
  },
  {
   "cell_type": "markdown",
   "id": "1d0d7d43",
   "metadata": {},
   "source": [
    "# Slicing / indexing"
   ]
  },
  {
   "cell_type": "code",
   "execution_count": 17,
   "id": "3a3e3257",
   "metadata": {},
   "outputs": [
    {
     "data": {
      "text/plain": [
       "array([[[4, 7, 1, 0],\n",
       "        [9, 7, 4, 7],\n",
       "        [2, 5, 8, 0],\n",
       "        [0, 7, 5, 8]],\n",
       "\n",
       "       [[4, 4, 9, 5],\n",
       "        [6, 3, 4, 9],\n",
       "        [7, 9, 9, 5],\n",
       "        [5, 2, 9, 8]],\n",
       "\n",
       "       [[4, 8, 8, 3],\n",
       "        [4, 9, 0, 9],\n",
       "        [4, 0, 0, 0],\n",
       "        [0, 6, 1, 6]],\n",
       "\n",
       "       [[4, 1, 9, 8],\n",
       "        [8, 5, 2, 1],\n",
       "        [4, 3, 5, 9],\n",
       "        [5, 1, 9, 0]]], dtype=int8)"
      ]
     },
     "execution_count": 17,
     "metadata": {},
     "output_type": "execute_result"
    }
   ],
   "source": [
    "#printing\n",
    "arr"
   ]
  },
  {
   "cell_type": "code",
   "execution_count": 18,
   "id": "8fe1970f",
   "metadata": {},
   "outputs": [
    {
     "data": {
      "text/plain": [
       "array([[[4, 4, 9, 5],\n",
       "        [6, 3, 4, 9],\n",
       "        [7, 9, 9, 5],\n",
       "        [5, 2, 9, 8]]], dtype=int8)"
      ]
     },
     "execution_count": 18,
     "metadata": {},
     "output_type": "execute_result"
    }
   ],
   "source": [
    "arr[1:2]"
   ]
  },
  {
   "cell_type": "code",
   "execution_count": 19,
   "id": "bfd2cf3f",
   "metadata": {},
   "outputs": [
    {
     "data": {
      "text/plain": [
       "array([[[4, 7],\n",
       "        [9, 7]],\n",
       "\n",
       "       [[4, 4],\n",
       "        [6, 3]]], dtype=int8)"
      ]
     },
     "execution_count": 19,
     "metadata": {},
     "output_type": "execute_result"
    }
   ],
   "source": [
    "arr[0:2,0:2,0:2]"
   ]
  },
  {
   "cell_type": "code",
   "execution_count": 20,
   "id": "df5695cb",
   "metadata": {},
   "outputs": [
    {
     "data": {
      "text/plain": [
       "array([[[4, 7, 1],\n",
       "        [9, 7, 4],\n",
       "        [2, 5, 8]],\n",
       "\n",
       "       [[4, 4, 9],\n",
       "        [6, 3, 4],\n",
       "        [7, 9, 9]],\n",
       "\n",
       "       [[4, 8, 8],\n",
       "        [4, 9, 0],\n",
       "        [4, 0, 0]]], dtype=int8)"
      ]
     },
     "execution_count": 20,
     "metadata": {},
     "output_type": "execute_result"
    }
   ],
   "source": [
    "arr[0:-1,0:-1,0:-1]\n",
    "#arr[:-1,:-1,:-1]"
   ]
  },
  {
   "cell_type": "markdown",
   "id": "d0d59ccd",
   "metadata": {},
   "source": [
    "## Replace"
   ]
  },
  {
   "cell_type": "code",
   "execution_count": 21,
   "id": "0449df4c",
   "metadata": {},
   "outputs": [],
   "source": [
    "arr[0:,0:1,0:1] = -1"
   ]
  },
  {
   "cell_type": "code",
   "execution_count": 22,
   "id": "8736236c",
   "metadata": {},
   "outputs": [
    {
     "data": {
      "text/plain": [
       "array([[[-1,  7,  1,  0],\n",
       "        [ 9,  7,  4,  7],\n",
       "        [ 2,  5,  8,  0],\n",
       "        [ 0,  7,  5,  8]],\n",
       "\n",
       "       [[-1,  4,  9,  5],\n",
       "        [ 6,  3,  4,  9],\n",
       "        [ 7,  9,  9,  5],\n",
       "        [ 5,  2,  9,  8]],\n",
       "\n",
       "       [[-1,  8,  8,  3],\n",
       "        [ 4,  9,  0,  9],\n",
       "        [ 4,  0,  0,  0],\n",
       "        [ 0,  6,  1,  6]],\n",
       "\n",
       "       [[-1,  1,  9,  8],\n",
       "        [ 8,  5,  2,  1],\n",
       "        [ 4,  3,  5,  9],\n",
       "        [ 5,  1,  9,  0]]], dtype=int8)"
      ]
     },
     "execution_count": 22,
     "metadata": {},
     "output_type": "execute_result"
    }
   ],
   "source": [
    "arr"
   ]
  },
  {
   "cell_type": "markdown",
   "id": "85a77008",
   "metadata": {},
   "source": [
    "# Copy"
   ]
  },
  {
   "cell_type": "code",
   "execution_count": 23,
   "id": "359df180",
   "metadata": {},
   "outputs": [],
   "source": [
    "BAD_COPY = arr[0:2,0:2,0:2]\n",
    "Good_COPY = arr[0:2,0:2,0:2].copy()"
   ]
  },
  {
   "cell_type": "code",
   "execution_count": 24,
   "id": "68d02093",
   "metadata": {},
   "outputs": [
    {
     "data": {
      "text/plain": [
       "array([[[-1,  7],\n",
       "        [ 9,  7]],\n",
       "\n",
       "       [[-1,  4],\n",
       "        [ 6,  3]]], dtype=int8)"
      ]
     },
     "execution_count": 24,
     "metadata": {},
     "output_type": "execute_result"
    }
   ],
   "source": [
    "Good_COPY"
   ]
  },
  {
   "cell_type": "code",
   "execution_count": 25,
   "id": "c2bc50b9",
   "metadata": {},
   "outputs": [
    {
     "data": {
      "text/plain": [
       "array([[[-1,  7],\n",
       "        [ 9,  7]],\n",
       "\n",
       "       [[-1,  4],\n",
       "        [ 6,  3]]], dtype=int8)"
      ]
     },
     "execution_count": 25,
     "metadata": {},
     "output_type": "execute_result"
    }
   ],
   "source": [
    "BAD_COPY"
   ]
  },
  {
   "cell_type": "code",
   "execution_count": 26,
   "id": "711e90b4",
   "metadata": {},
   "outputs": [],
   "source": [
    "arr[0:2,0:2,0:2] = 0"
   ]
  },
  {
   "cell_type": "code",
   "execution_count": 27,
   "id": "acf4729a",
   "metadata": {},
   "outputs": [
    {
     "data": {
      "text/plain": [
       "array([[[0, 0],\n",
       "        [0, 0]],\n",
       "\n",
       "       [[0, 0],\n",
       "        [0, 0]]], dtype=int8)"
      ]
     },
     "execution_count": 27,
     "metadata": {},
     "output_type": "execute_result"
    }
   ],
   "source": [
    "BAD_COPY"
   ]
  },
  {
   "cell_type": "code",
   "execution_count": 28,
   "id": "7bbe2238",
   "metadata": {},
   "outputs": [
    {
     "data": {
      "text/plain": [
       "array([[[-1,  7],\n",
       "        [ 9,  7]],\n",
       "\n",
       "       [[-1,  4],\n",
       "        [ 6,  3]]], dtype=int8)"
      ]
     },
     "execution_count": 28,
     "metadata": {},
     "output_type": "execute_result"
    }
   ],
   "source": [
    "Good_COPY"
   ]
  },
  {
   "cell_type": "markdown",
   "id": "c1403c77",
   "metadata": {},
   "source": [
    "## Boolean array"
   ]
  },
  {
   "cell_type": "code",
   "execution_count": 29,
   "id": "c94378c2",
   "metadata": {},
   "outputs": [
    {
     "data": {
      "text/plain": [
       "array([[[False,  True],\n",
       "        [ True,  True]],\n",
       "\n",
       "       [[False,  True],\n",
       "        [ True,  True]]])"
      ]
     },
     "execution_count": 29,
     "metadata": {},
     "output_type": "execute_result"
    }
   ],
   "source": [
    "Good_COPY > BAD_COPY"
   ]
  },
  {
   "cell_type": "markdown",
   "id": "96843b52",
   "metadata": {},
   "source": [
    "# operators"
   ]
  },
  {
   "cell_type": "code",
   "execution_count": 30,
   "id": "54a1c83d",
   "metadata": {},
   "outputs": [
    {
     "data": {
      "text/plain": [
       "array([[[-1,  7],\n",
       "        [ 9,  7]],\n",
       "\n",
       "       [[-1,  4],\n",
       "        [ 6,  3]]], dtype=int8)"
      ]
     },
     "execution_count": 30,
     "metadata": {},
     "output_type": "execute_result"
    }
   ],
   "source": [
    "Good_COPY+BAD_COPY"
   ]
  },
  {
   "cell_type": "code",
   "execution_count": 31,
   "id": "e467cb1d",
   "metadata": {},
   "outputs": [
    {
     "data": {
      "text/plain": [
       "array([[[-2, 14],\n",
       "        [18, 14]],\n",
       "\n",
       "       [[-2,  8],\n",
       "        [12,  6]]], dtype=int8)"
      ]
     },
     "execution_count": 31,
     "metadata": {},
     "output_type": "execute_result"
    }
   ],
   "source": [
    "Good_COPY*2"
   ]
  },
  {
   "cell_type": "code",
   "execution_count": 32,
   "id": "e381c43f",
   "metadata": {},
   "outputs": [
    {
     "data": {
      "text/plain": [
       "array([[[-0.5,  3.5],\n",
       "        [ 4.5,  3.5]],\n",
       "\n",
       "       [[-0.5,  2. ],\n",
       "        [ 3. ,  1.5]]])"
      ]
     },
     "execution_count": 32,
     "metadata": {},
     "output_type": "execute_result"
    }
   ],
   "source": [
    "Good_COPY/2"
   ]
  },
  {
   "cell_type": "code",
   "execution_count": 33,
   "id": "b2100d11",
   "metadata": {},
   "outputs": [
    {
     "name": "stderr",
     "output_type": "stream",
     "text": [
      "C:\\Users\\itaig\\AppData\\Local\\Temp\\ipykernel_5716\\325349128.py:2: RuntimeWarning: divide by zero encountered in divide\n",
      "  Good_COPY/BAD_COPY\n"
     ]
    },
    {
     "data": {
      "text/plain": [
       "array([[[-inf,  inf],\n",
       "        [ inf,  inf]],\n",
       "\n",
       "       [[-inf,  inf],\n",
       "        [ inf,  inf]]])"
      ]
     },
     "execution_count": 33,
     "metadata": {},
     "output_type": "execute_result"
    }
   ],
   "source": [
    "# inf == infinity\n",
    "Good_COPY/BAD_COPY"
   ]
  },
  {
   "cell_type": "markdown",
   "id": "9031dbe6",
   "metadata": {},
   "source": [
    "# Max Min Mean"
   ]
  },
  {
   "cell_type": "code",
   "execution_count": 34,
   "id": "90868599",
   "metadata": {},
   "outputs": [
    {
     "data": {
      "text/plain": [
       "9"
      ]
     },
     "execution_count": 34,
     "metadata": {},
     "output_type": "execute_result"
    }
   ],
   "source": [
    "arr.max()"
   ]
  },
  {
   "cell_type": "code",
   "execution_count": 35,
   "id": "3f774ff7",
   "metadata": {},
   "outputs": [
    {
     "data": {
      "text/plain": [
       "3.96875"
      ]
     },
     "execution_count": 35,
     "metadata": {},
     "output_type": "execute_result"
    }
   ],
   "source": [
    "arr.mean()"
   ]
  },
  {
   "cell_type": "code",
   "execution_count": 36,
   "id": "d55dbaec",
   "metadata": {},
   "outputs": [
    {
     "data": {
      "text/plain": [
       "-1"
      ]
     },
     "execution_count": 36,
     "metadata": {},
     "output_type": "execute_result"
    }
   ],
   "source": [
    "arr.min()"
   ]
  },
  {
   "cell_type": "markdown",
   "id": "5a0e2b95",
   "metadata": {},
   "source": [
    "# Utils"
   ]
  },
  {
   "cell_type": "code",
   "execution_count": 37,
   "id": "bc9821fe",
   "metadata": {},
   "outputs": [
    {
     "data": {
      "text/plain": [
       "array([[[ 0.    ,  0.    ,  0.8413,  0.    ],\n",
       "        [ 0.    ,  0.    , -0.757 ,  0.657 ],\n",
       "        [ 0.909 , -0.959 ,  0.9893,  0.    ],\n",
       "        [ 0.    ,  0.657 , -0.959 ,  0.9893]],\n",
       "\n",
       "       [[ 0.    ,  0.    ,  0.412 , -0.959 ],\n",
       "        [ 0.    ,  0.    , -0.757 ,  0.412 ],\n",
       "        [ 0.657 ,  0.412 ,  0.412 , -0.959 ],\n",
       "        [-0.959 ,  0.909 ,  0.412 ,  0.9893]],\n",
       "\n",
       "       [[-0.8413,  0.9893,  0.9893,  0.1411],\n",
       "        [-0.757 ,  0.412 ,  0.    ,  0.412 ],\n",
       "        [-0.757 ,  0.    ,  0.    ,  0.    ],\n",
       "        [ 0.    , -0.2793,  0.8413, -0.2793]],\n",
       "\n",
       "       [[-0.8413,  0.8413,  0.412 ,  0.9893],\n",
       "        [ 0.9893, -0.959 ,  0.909 ,  0.8413],\n",
       "        [-0.757 ,  0.1411, -0.959 ,  0.412 ],\n",
       "        [-0.959 ,  0.8413,  0.412 ,  0.    ]]], dtype=float16)"
      ]
     },
     "execution_count": 37,
     "metadata": {},
     "output_type": "execute_result"
    }
   ],
   "source": [
    "np.sin(arr)"
   ]
  },
  {
   "cell_type": "code",
   "execution_count": 38,
   "id": "3d90030b",
   "metadata": {},
   "outputs": [
    {
     "data": {
      "text/plain": [
       "array([[[ 1.    ,  1.    ,  0.5405,  1.    ],\n",
       "        [ 1.    ,  1.    , -0.654 ,  0.754 ],\n",
       "        [-0.4163,  0.2837, -0.1455,  1.    ],\n",
       "        [ 1.    ,  0.754 ,  0.2837, -0.1455]],\n",
       "\n",
       "       [[ 1.    ,  1.    , -0.911 ,  0.2837],\n",
       "        [ 1.    ,  1.    , -0.654 , -0.911 ],\n",
       "        [ 0.754 , -0.911 , -0.911 ,  0.2837],\n",
       "        [ 0.2837, -0.4163, -0.911 , -0.1455]],\n",
       "\n",
       "       [[ 0.5405, -0.1455, -0.1455, -0.99  ],\n",
       "        [-0.654 , -0.911 ,  1.    , -0.911 ],\n",
       "        [-0.654 ,  1.    ,  1.    ,  1.    ],\n",
       "        [ 1.    ,  0.96  ,  0.5405,  0.96  ]],\n",
       "\n",
       "       [[ 0.5405,  0.5405, -0.911 , -0.1455],\n",
       "        [-0.1455,  0.2837, -0.4163,  0.5405],\n",
       "        [-0.654 , -0.99  ,  0.2837, -0.911 ],\n",
       "        [ 0.2837,  0.5405, -0.911 ,  1.    ]]], dtype=float16)"
      ]
     },
     "execution_count": 38,
     "metadata": {},
     "output_type": "execute_result"
    }
   ],
   "source": [
    "np.cos(arr)"
   ]
  },
  {
   "cell_type": "code",
   "execution_count": null,
   "id": "5a1d2be6",
   "metadata": {},
   "outputs": [],
   "source": []
  }
 ],
 "metadata": {
  "kernelspec": {
   "display_name": "Python 3 (ipykernel)",
   "language": "python",
   "name": "python3"
  },
  "language_info": {
   "codemirror_mode": {
    "name": "ipython",
    "version": 3
   },
   "file_extension": ".py",
   "mimetype": "text/x-python",
   "name": "python",
   "nbconvert_exporter": "python",
   "pygments_lexer": "ipython3",
   "version": "3.9.13"
  }
 },
 "nbformat": 4,
 "nbformat_minor": 5
}
